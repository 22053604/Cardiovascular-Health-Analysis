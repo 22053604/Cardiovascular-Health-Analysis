{
  "nbformat": 4,
  "nbformat_minor": 0,
  "metadata": {
    "colab": {
      "provenance": [],
      "include_colab_link": true
    },
    "kernelspec": {
      "name": "python3",
      "display_name": "Python 3"
    },
    "language_info": {
      "name": "python"
    }
  },
  "cells": [
    {
      "cell_type": "markdown",
      "metadata": {
        "id": "view-in-github",
        "colab_type": "text"
      },
      "source": [
        "<a href=\"https://colab.research.google.com/github/22053604/Cardiovascular-Health-Analysis/blob/main/Cardiovascular_Health_Analysis.ipynb\" target=\"_parent\"><img src=\"https://colab.research.google.com/assets/colab-badge.svg\" alt=\"Open In Colab\"/></a>"
      ]
    },
    {
      "cell_type": "markdown",
      "source": [
        "(Title)"
      ],
      "metadata": {
        "id": "1m82Zu6_Zkpl"
      }
    },
    {
      "cell_type": "code",
      "source": [],
      "metadata": {
        "id": "wDa0GJrYawVz"
      },
      "execution_count": null,
      "outputs": []
    },
    {
      "cell_type": "markdown",
      "source": [
        "**Overview**\n",
        "\n",
        "(Explain assignment project...)\n",
        "\n",
        "The assignment involves analysing a cardiovascular health dataset to uncover insights about the relationships between a person's demographic, lifestyle, and clinical factors and their risk of cardiovascular disease.\n",
        "(just a rough draft)"
      ],
      "metadata": {
        "id": "dorash9iZtMy"
      }
    },
    {
      "cell_type": "markdown",
      "source": [
        "**Problem Solving Methodology**\n",
        "\n",
        "\n"
      ],
      "metadata": {
        "id": "APUwjPJYbA_1"
      }
    },
    {
      "cell_type": "markdown",
      "source": [
        "**Problem Statement**"
      ],
      "metadata": {
        "id": "Dz167rU_bNog"
      }
    },
    {
      "cell_type": "markdown",
      "source": [
        "**Input and Output Analysis**\n",
        "\n",
        "Inputs for Analysis:\n",
        "\n",
        "Cardiovascular Health dataset as SQLite database\n",
        "\n",
        "Outputs:\n",
        "\n",
        "Data Analysis 1:\n",
        "\n",
        "Exploring patient's ....\n",
        "\n",
        "a) Analysing the risk of cardiovascular heart disease by\n",
        "\n",
        "b) Analysing the risk of cardiovascular heart disease by\n",
        "\n"
      ],
      "metadata": {
        "id": "Ibro8QenbXyn"
      }
    },
    {
      "cell_type": "markdown",
      "source": [
        "# Design - Algorithm\n",
        "1. Create connection to SQLite database\n",
        "\n",
        "2. Load the 'Cardio Health' table into a Panadas DataFrame\n",
        "\n",
        "3. Performs data exploration, including display first few rows, checking for duplicates, and handling missing values.\n",
        "\n",
        "4. Analysis 1. Explore a Demographic and Lifestyle factor: Display using bar & pie charts?\n",
        "\n",
        "5. Analysis 2. Explore a Demographic and Clinical factor: Display using ___ charts\n",
        "\n",
        "6. Analysis 1. Explore combination of Demographic, Lifestyle and Clinical factor: Display using ___ charts\n",
        "\n",
        "7. Closes the database connection\n",
        "\n",
        "\n",
        "\n"
      ],
      "metadata": {
        "id": "o5ULm5nBh_MN"
      }
    },
    {
      "cell_type": "markdown",
      "source": [
        "# Final Design - Pseudocode\n",
        "..."
      ],
      "metadata": {
        "id": "RmbbCDa6jfUx"
      }
    },
    {
      "cell_type": "markdown",
      "source": [
        "# Step 1: Import the Necessary Libraries\n",
        "\n",
        "\n",
        "*   **SQL queries** to extract data from dataset\n",
        "\n",
        "*   **Panadas** for data manipulation and analysis\n",
        "\n",
        "*   **Numpy** for numerical operations\n",
        "\n",
        "*   **Matplotlib** for graph and data visualisations\n",
        "\n",
        "*   **Ipywidgets** for ...\n",
        "\n",
        "\n",
        "\n"
      ],
      "metadata": {
        "id": "n4CsZSWuleCG"
      }
    },
    {
      "cell_type": "code",
      "execution_count": 11,
      "metadata": {
        "id": "kOqORmrqM01P"
      },
      "outputs": [],
      "source": [
        "#importing necessary libraries\n",
        "import sqlite3\n",
        "import pandas as pd\n",
        "import numpy as np\n",
        "import matplotlib.pyplot as plt\n",
        "import ipywidgets as widgets\n",
        "\n"
      ]
    },
    {
      "cell_type": "markdown",
      "source": [
        "# Step 2: Connect to the SQLite Database\n",
        "\n",
        "1.   Connect to the database named 'cardio_health.db'\n",
        "\n",
        "2.   Load the database\n",
        "\n",
        "3.   Examine and test structure of database\n"
      ],
      "metadata": {
        "id": "wA4Hjjdgqupn"
      }
    },
    {
      "cell_type": "code",
      "source": [
        "#Connect to the SQLite database\n",
        "conn = sqlite3.connect('cardio_health.db')\n",
        "cursor = conn.cursor()"
      ],
      "metadata": {
        "id": "adCgTxcun2Fb"
      },
      "execution_count": 12,
      "outputs": []
    },
    {
      "cell_type": "code",
      "source": [
        "#Retrieve and display table names\n",
        "cursor.execute(\"SELECT name FROM sqlite_master WHERE type='table';\")\n",
        "\n",
        "#List all tables\n",
        "print(cursor.fetchall())\n"
      ],
      "metadata": {
        "colab": {
          "base_uri": "https://localhost:8080/"
        },
        "collapsed": true,
        "id": "4XA_vMQ4oJFn",
        "outputId": "2aed8635-7941-4d58-b1a3-7c4e9d2dbf35"
      },
      "execution_count": 13,
      "outputs": [
        {
          "output_type": "stream",
          "name": "stdout",
          "text": [
            "[('medical_examination',)]\n"
          ]
        }
      ]
    },
    {
      "cell_type": "markdown",
      "source": [
        "*(note: table is 'medical_examination')*"
      ],
      "metadata": {
        "id": "EN7p4xr9sQwA"
      }
    },
    {
      "cell_type": "markdown",
      "source": [
        "# Step 4: Extract Data Using SQL Queries\n"
      ],
      "metadata": {
        "id": "-1eycePescUi"
      }
    },
    {
      "cell_type": "code",
      "source": [
        "query = \"\"\"\n",
        "SELECT age, gender, height, weight, ap_hi, ap_lo, cholesterol, gluc, smoke, alco, active, cardio\n",
        "FROM medical_examination;\n",
        "\"\"\"\n",
        "\n",
        "query = \"SELECT * FROM medical_examination;\"\n",
        "df = pd.read_sql_query(query, conn)"
      ],
      "metadata": {
        "id": "U_OXDwxWsloU"
      },
      "execution_count": 16,
      "outputs": []
    },
    {
      "cell_type": "markdown",
      "source": [
        "# Step 5: Clean the Data\n",
        "\n",
        "1.   Handle missing values\n",
        "2.   Convert age (days to years)\n",
        "\n",
        "\n"
      ],
      "metadata": {
        "id": "uEigfqVhs6oS"
      }
    },
    {
      "cell_type": "code",
      "source": [
        "df.isnull().sum()"
      ],
      "metadata": {
        "id": "-kyMb7CXtJl3",
        "outputId": "44dec5ad-df8d-459e-c176-6bc046ad5cbd",
        "colab": {
          "base_uri": "https://localhost:8080/",
          "height": 491
        }
      },
      "execution_count": 17,
      "outputs": [
        {
          "output_type": "execute_result",
          "data": {
            "text/plain": [
              "id             0\n",
              "age            0\n",
              "gender         0\n",
              "height         0\n",
              "weight         0\n",
              "ap_hi          0\n",
              "ap_lo          0\n",
              "cholesterol    0\n",
              "gluc           0\n",
              "smoke          0\n",
              "alco           0\n",
              "active         0\n",
              "cardio         0\n",
              "dtype: int64"
            ],
            "text/html": [
              "<div>\n",
              "<style scoped>\n",
              "    .dataframe tbody tr th:only-of-type {\n",
              "        vertical-align: middle;\n",
              "    }\n",
              "\n",
              "    .dataframe tbody tr th {\n",
              "        vertical-align: top;\n",
              "    }\n",
              "\n",
              "    .dataframe thead th {\n",
              "        text-align: right;\n",
              "    }\n",
              "</style>\n",
              "<table border=\"1\" class=\"dataframe\">\n",
              "  <thead>\n",
              "    <tr style=\"text-align: right;\">\n",
              "      <th></th>\n",
              "      <th>0</th>\n",
              "    </tr>\n",
              "  </thead>\n",
              "  <tbody>\n",
              "    <tr>\n",
              "      <th>id</th>\n",
              "      <td>0</td>\n",
              "    </tr>\n",
              "    <tr>\n",
              "      <th>age</th>\n",
              "      <td>0</td>\n",
              "    </tr>\n",
              "    <tr>\n",
              "      <th>gender</th>\n",
              "      <td>0</td>\n",
              "    </tr>\n",
              "    <tr>\n",
              "      <th>height</th>\n",
              "      <td>0</td>\n",
              "    </tr>\n",
              "    <tr>\n",
              "      <th>weight</th>\n",
              "      <td>0</td>\n",
              "    </tr>\n",
              "    <tr>\n",
              "      <th>ap_hi</th>\n",
              "      <td>0</td>\n",
              "    </tr>\n",
              "    <tr>\n",
              "      <th>ap_lo</th>\n",
              "      <td>0</td>\n",
              "    </tr>\n",
              "    <tr>\n",
              "      <th>cholesterol</th>\n",
              "      <td>0</td>\n",
              "    </tr>\n",
              "    <tr>\n",
              "      <th>gluc</th>\n",
              "      <td>0</td>\n",
              "    </tr>\n",
              "    <tr>\n",
              "      <th>smoke</th>\n",
              "      <td>0</td>\n",
              "    </tr>\n",
              "    <tr>\n",
              "      <th>alco</th>\n",
              "      <td>0</td>\n",
              "    </tr>\n",
              "    <tr>\n",
              "      <th>active</th>\n",
              "      <td>0</td>\n",
              "    </tr>\n",
              "    <tr>\n",
              "      <th>cardio</th>\n",
              "      <td>0</td>\n",
              "    </tr>\n",
              "  </tbody>\n",
              "</table>\n",
              "</div><br><label><b>dtype:</b> int64</label>"
            ]
          },
          "metadata": {},
          "execution_count": 17
        }
      ]
    },
    {
      "cell_type": "code",
      "source": [
        "df['age_years'] = df['age'] / 365\n",
        "\n",
        "#Dropping orginal age column in days\n",
        "#df.drop(columns=[age], inplace=True)"
      ],
      "metadata": {
        "id": "bME1OJqStXYl"
      },
      "execution_count": 18,
      "outputs": []
    },
    {
      "cell_type": "markdown",
      "source": [
        "# Step 6: Factors Combination Analysis\n",
        "\n",
        "1. Demographic and Lifestyle factor\n",
        "\n",
        "2. Demographic and Clinical factor\n",
        "\n",
        "3. Demographic, Lifestyle and Clinical factor\n",
        "\n",
        "\n"
      ],
      "metadata": {
        "id": "_QhpZfQvtvxu"
      }
    },
    {
      "cell_type": "code",
      "source": [
        "#Gender and smoking example\n",
        "group_data = df.groupby(['gender','smoke'])['cardio'].mean()\n",
        "print(group_data)\n"
      ],
      "metadata": {
        "collapsed": true,
        "id": "q3SYDBhPuEUy",
        "outputId": "1f0637d3-d57b-4314-b6aa-a39057bc386f",
        "colab": {
          "base_uri": "https://localhost:8080/"
        }
      },
      "execution_count": 20,
      "outputs": [
        {
          "output_type": "stream",
          "name": "stdout",
          "text": [
            "gender  smoke\n",
            "1       0        0.497103\n",
            "        1        0.477245\n",
            "2       0        0.513893\n",
            "        1        0.474421\n",
            "3       0        0.363636\n",
            "Name: cardio, dtype: float64\n"
          ]
        }
      ]
    },
    {
      "cell_type": "code",
      "source": [
        "#Gender and smoking example\n",
        "group_data = df.groupby(['age','cholesterol'])['cardio'].mean()\n",
        "print(group_data)\n"
      ],
      "metadata": {
        "collapsed": true,
        "id": "AZCltl85ucqh",
        "outputId": "f1f9a703-dc33-45e1-d02a-138456791164",
        "colab": {
          "base_uri": "https://localhost:8080/"
        }
      },
      "execution_count": 22,
      "outputs": [
        {
          "output_type": "stream",
          "name": "stdout",
          "text": [
            "age    cholesterol\n",
            "10798  1              0.0\n",
            "10859  1              0.0\n",
            "10878  1              0.0\n",
            "10964  1              0.0\n",
            "14275  3              1.0\n",
            "                     ... \n",
            "23687  3              1.0\n",
            "23690  2              1.0\n",
            "23692  2              1.0\n",
            "23701  1              1.0\n",
            "23713  1              1.0\n",
            "Name: cardio, Length: 16882, dtype: float64\n"
          ]
        }
      ]
    },
    {
      "cell_type": "markdown",
      "source": [
        "# Step 7: Create Data Visualisations and Graphs\n"
      ],
      "metadata": {
        "id": "WTZ1Z5CPuqno"
      }
    },
    {
      "cell_type": "code",
      "source": [
        "gender_smoke_data = df.groupby(['gender','smoke'])['cardio'].mean().unstack()\n",
        "gender_smoke_data.plot(kind='bar', stacked=True)\n",
        "plt.title('Cardiovascular Risk by Gender and Smoking Status')\n",
        "plt.xlabel('Gender')\n",
        "plt.ylabel('Cardiovascular Risk')\n",
        "plt.show()"
      ],
      "metadata": {
        "id": "ayOZcxfKu91H",
        "outputId": "7b914502-27f2-4507-edf1-3d6fc9f6f542",
        "colab": {
          "base_uri": "https://localhost:8080/",
          "height": 467
        }
      },
      "execution_count": 26,
      "outputs": [
        {
          "output_type": "display_data",
          "data": {
            "text/plain": [
              "<Figure size 640x480 with 1 Axes>"
            ],
            "image/png": "[encoded data removed]"
          },
          "metadata": {}
        }
      ]
    }
  ]
}