{
  "nbformat": 4,
  "nbformat_minor": 0,
  "metadata": {
    "colab": {
      "provenance": [],
      "include_colab_link": true
    },
    "kernelspec": {
      "name": "python3",
      "display_name": "Python 3"
    },
    "language_info": {
      "name": "python"
    }
  },
  "cells": [
    {
      "cell_type": "markdown",
      "metadata": {
        "id": "view-in-github",
        "colab_type": "text"
      },
      "source": [
        "<a href=\"https://colab.research.google.com/github/22053604/Cardiovascular-Health-Analysis/blob/main/Cardiovascular_Health_Analysis.ipynb\" target=\"_parent\"><img src=\"https://colab.research.google.com/assets/colab-badge.svg\" alt=\"Open In Colab\"/></a>"
      ]
    },
    {
      "cell_type": "markdown",
      "source": [
        "(Title)"
      ],
      "metadata": {
        "id": "1m82Zu6_Zkpl"
      }
    },
    {
      "cell_type": "code",
      "source": [],
      "metadata": {
        "id": "wDa0GJrYawVz"
      },
      "execution_count": null,
      "outputs": []
    },
    {
      "cell_type": "markdown",
      "source": [
        "**Overview**\n",
        "\n",
        "(Explain assignment project...)\n",
        "\n",
        "We seek to investigate and uncover valuable insights in regards to a person's health and lifestyle factors in relation to their risk of cardiovasular disease... *(just a rough draft)*"
      ],
      "metadata": {
        "id": "dorash9iZtMy"
      }
    },
    {
      "cell_type": "markdown",
      "source": [
        "**Problem Solving Methodology**"
      ],
      "metadata": {
        "id": "APUwjPJYbA_1"
      }
    },
    {
      "cell_type": "markdown",
      "source": [
        "**Problem Statement**"
      ],
      "metadata": {
        "id": "Dz167rU_bNog"
      }
    },
    {
      "cell_type": "markdown",
      "source": [
        "**Input and Output Analysis**\n",
        "\n",
        "Inputs for Analysis:\n",
        "\n",
        "Cardiovascular Health dataset as SQLite database\n",
        "\n",
        "Outputs:\n",
        "\n",
        "Data Analysis 1:\n",
        "\n",
        "Exploring patient's ....\n",
        "\n",
        "a) Analysing the risk of cardiovascular heart disease by\n",
        "\n",
        "b) Analysing the risk of cardiovascular heart disease by\n",
        "\n"
      ],
      "metadata": {
        "id": "Ibro8QenbXyn"
      }
    },
    {
      "cell_type": "code",
      "execution_count": null,
      "metadata": {
        "id": "kOqORmrqM01P"
      },
      "outputs": [],
      "source": [
        "#importing necessary libraries\n",
        "import sqlite3\n",
        "import pandas as pd\n",
        "import numpy as np\n",
        "import matplotlib.pyplot as plt\n",
        "import ipywidgets as widgets\n",
        "\n"
      ]
    }
  ]
}