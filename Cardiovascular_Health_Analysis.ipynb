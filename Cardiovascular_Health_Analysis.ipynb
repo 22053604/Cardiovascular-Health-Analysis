{
  "nbformat": 4,
  "nbformat_minor": 0,
  "metadata": {
    "colab": {
      "provenance": [],
      "include_colab_link": true
    },
    "kernelspec": {
      "name": "python3",
      "display_name": "Python 3"
    },
    "language_info": {
      "name": "python"
    }
  },
  "cells": [
    {
      "cell_type": "markdown",
      "metadata": {
        "id": "view-in-github",
        "colab_type": "text"
      },
      "source": [
        "<a href=\"https://colab.research.google.com/github/22053604/Cardiovascular-Health-Analysis/blob/main/Cardiovascular_Health_Analysis.ipynb\" target=\"_parent\"><img src=\"https://colab.research.google.com/assets/colab-badge.svg\" alt=\"Open In Colab\"/></a>"
      ]
    },
    {
      "cell_type": "markdown",
      "source": [
        "(Title)"
      ],
      "metadata": {
        "id": "1m82Zu6_Zkpl"
      }
    },
    {
      "cell_type": "code",
      "source": [],
      "metadata": {
        "id": "wDa0GJrYawVz"
      },
      "execution_count": null,
      "outputs": []
    },
    {
      "cell_type": "markdown",
      "source": [
        "**Overview**\n",
        "\n",
        "(Explain assignment project...)\n",
        "\n",
        "The assignment involves analysing a cardiovascular health dataset to uncover insights about the relationships between a person's demographic, lifestyle, and clinical factors and their risk of cardiovascular disease.\n",
        "(just a rough draft)"
      ],
      "metadata": {
        "id": "dorash9iZtMy"
      }
    },
    {
      "cell_type": "markdown",
      "source": [
        "**Problem Solving Methodology**\n",
        "\n",
        "\n"
      ],
      "metadata": {
        "id": "APUwjPJYbA_1"
      }
    },
    {
      "cell_type": "markdown",
      "source": [
        "**Problem Statement**"
      ],
      "metadata": {
        "id": "Dz167rU_bNog"
      }
    },
    {
      "cell_type": "markdown",
      "source": [
        "**Input and Output Analysis**\n",
        "\n",
        "Inputs for Analysis:\n",
        "\n",
        "Cardiovascular Health dataset as SQLite database\n",
        "\n",
        "Outputs:\n",
        "\n",
        "Data Analysis 1:\n",
        "\n",
        "Exploring patient's ....\n",
        "\n",
        "a) Analysing the risk of cardiovascular heart disease by\n",
        "\n",
        "b) Analysing the risk of cardiovascular heart disease by\n",
        "\n"
      ],
      "metadata": {
        "id": "Ibro8QenbXyn"
      }
    },
    {
      "cell_type": "markdown",
      "source": [
        "# Design - Algorithm\n",
        "1. Create connection to SQLite database\n",
        "\n",
        "2. Load the 'Cardio Health' table into a Panadas DataFrame\n",
        "\n",
        "3. Performs data exploration, including display first few rows, checking for duplicates, and handling missing values.\n",
        "\n",
        "4. Analysis 1. Explore a Demographic and Lifestyle factor: Display using bar & pie charts?\n",
        "\n",
        "5. Analysis 2. Explore a Demographic and Clinical factor: Display using ___ charts\n",
        "\n",
        "6. Analysis 1. Explore combination of Demographic, Lifestyle and Clinical factor: Display using ___ charts\n",
        "\n",
        "7. Closes the database connection\n",
        "\n",
        "\n",
        "\n"
      ],
      "metadata": {
        "id": "o5ULm5nBh_MN"
      }
    },
    {
      "cell_type": "markdown",
      "source": [
        "# Final Design - Pseudocode\n"
      ],
      "metadata": {
        "id": "RmbbCDa6jfUx"
      }
    },
    {
      "cell_type": "markdown",
      "source": [
        "Importing the necessary libraries\n",
        "\n",
        "\n",
        "*   SQL queries to extract data from dataset\n",
        "\n",
        "*   Panadas for data manipulation and analysis\n",
        "\n",
        "*   Numpy for...\n",
        "\n",
        "*   Matplotlib for graph visualisations\n",
        "\n",
        "*   Ipywidgets for ...\n",
        "\n",
        "\n",
        "\n"
      ],
      "metadata": {
        "id": "n4CsZSWuleCG"
      }
    },
    {
      "cell_type": "code",
      "execution_count": 1,
      "metadata": {
        "id": "kOqORmrqM01P"
      },
      "outputs": [],
      "source": [
        "#importing necessary libraries\n",
        "import sqlite3\n",
        "import pandas as pd\n",
        "import numpy as np\n",
        "import matplotlib.pyplot as plt\n",
        "import ipywidgets as widgets\n",
        "\n"
      ]
    },
    {
      "cell_type": "code",
      "source": [
        "#Connect to the SQLite database\n",
        "conn = sqlite3.connect('cardio_health.db')\n",
        "cursor = conn.cursor()"
      ],
      "metadata": {
        "id": "adCgTxcun2Fb"
      },
      "execution_count": 2,
      "outputs": []
    },
    {
      "cell_type": "code",
      "source": [
        "#Retrieve and display table names\n",
        "cursor.execute(\"SELECT name FROM sqlite_master WHERE type='table';\")\n",
        "tables = cursor.fetchall()\n",
        "for table in tables:\n",
        "    print(table[0])\n",
        ""
      ],
      "metadata": {
        "id": "4XA_vMQ4oJFn"
      },
      "execution_count": 5,
      "outputs": []
    },
    {
      "cell_type": "code",
      "source": [
        "#Choose combination of facors and create function for each one\n",
        "def analyze_demographic_lifestyle(demographic_factor, lifestyle_factor):\n",
        "    query = f\"\"\"\n",
        "    SELECT {demographic_factor}, {lifestyle_factor}, COUNT(*) as count\n",
        "    FROM cardio_data\n",
        "    GROUP BY {demographic_factor}, {lifestyle_factor}\n",
        "    \"\"\"\n",
        "    df = pd.read_sql_query(query, conn)\n",
        "    return df\n",
        "\n",
        "def analyze_demographic_clinical(demographic_factor, clinical_factor):\n",
        "    # Similar to above, but with clinical factor\n",
        "    pass\n",
        "\n",
        "def analyze_multiple_factors(factor1, factor2, factor3):\n",
        "    # Similar to above, but with three factors\n",
        "    pass"
      ],
      "metadata": {
        "id": "pAVJomwxoYp1"
      },
      "execution_count": 6,
      "outputs": []
    }
  ]
}