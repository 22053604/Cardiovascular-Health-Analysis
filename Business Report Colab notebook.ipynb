{
  "nbformat": 4,
  "nbformat_minor": 0,
  "metadata": {
    "colab": {
      "provenance": [],
      "include_colab_link": true
    },
    "kernelspec": {
      "name": "python3",
      "display_name": "Python 3"
    },
    "language_info": {
      "name": "python"
    }
  },
  "cells": [
    {
      "cell_type": "markdown",
      "metadata": {
        "id": "view-in-github",
        "colab_type": "text"
      },
      "source": [
        "<a href=\"https://colab.research.google.com/github/22053604/Cardiovascular-Health-Analysis/blob/main/Business%20Report%20Colab%20notebook.ipynb\" target=\"_parent\"><img src=\"https://colab.research.google.com/assets/colab-badge.svg\" alt=\"Open In Colab\"/></a>"
      ]
    },
    {
      "cell_type": "markdown",
      "source": [
        "## Business Notebook: **Cardiovascular Health Analysis**\n",
        "\n",
        "\n"
      ],
      "metadata": {
        "id": "1m82Zu6_Zkpl"
      }
    },
    {
      "cell_type": "markdown",
      "source": [
        "# **1. Overview**\n",
        "\n",
        "In this assessment, we analyzed a cardiovascular health dataset to understand the relationship between various factors—demographic, clinical, and lifestyle—on cardiovascular disease (CVD) risk. Using Python in Google Colab, we performed data cleaning, preprocessing, and exploratory data analysis (EDA) on the dataset. We focused on key combinations of factors (e.g., age, cholesterol, smoking status) and examined how these relate to the likelihood of developing CVD. To support our analysis, we generated visualizations such as bar charts and scatter plots, revealing trends and insights into cardiovascular health. Additionally, we followed a structured process to ensure that the code was organized, efficient, and tested. The results from this analysis are intended to provide actionable recommendations for reducing CVD risk, as well as insights into patterns in cardiovascular health.\n"
      ],
      "metadata": {
        "id": "dorash9iZtMy"
      }
    },
    {
      "cell_type": "markdown",
      "source": [
        "# **2. Problem Solving Methodology**\n",
        "\n",
        "\n",
        "# Problem Statement\n",
        "Cardiovascular disease (CVD) is one of the leading causes of death globally, affecting millions of individuals each year. Given the complex interaction of demographic factors (such as age and gender), clinical factors (such as blood pressure and cholesterol levels), and lifestyle factors (such as smoking and physical activity), there is a pressing need to identify patterns that could help predict and prevent CVD. This assessment seeks to investigate the relationships between these variables and cardiovascular health outcomes, with a particular focus on determining which factor combinations are the most significant predictors of CVD. By understanding these relationships, we aim to support healthcare professionals and policymakers in developing targeted interventions to reduce the prevalence of CVD.\n",
        "\n",
        "# Objectives\n",
        "The objective of this assessment is to conduct a comprehensive analysis of a cardiovascular health dataset to uncover patterns and correlations between demographic, clinical, and lifestyle factors and the risk of developing cardiovascular disease. Specifically, the analysis will:\n",
        "1. Identify the most significant demographic, clinical, and lifestyle predictors of cardiovascular disease.\n",
        "2. Analyze different combinations of factors to determine which contribute most to CVD risk.\n",
        "3. Provide actionable insights that can inform public health strategies to prevent and manage CVD.\n",
        "4. Generate visualizations that clearly present the relationships between these factors and cardiovascular health, supporting the interpretation of the results."
      ],
      "metadata": {
        "id": "Dz167rU_bNog"
      }
    },
    {
      "cell_type": "markdown",
      "source": [
        "#**3. Dataset and Factor Selection**\n",
        "The dataset includes information such as age, gender, cholesterol levels, glucose levels, smoking status, physical activity, alcohol consumption, and the presence of cardiovascular disease (CVD).\n",
        "\n",
        "After loading the data from the medical_examination table in the SQLite database, we conducted data cleaning by removing duplicates and converting age from days into years. The factors were then categorized into more readable formats. For example, age was grouped into bins, cholesterol and glucose levels were categorized into \"Normal,\" \"Above Normal,\" and \"Well Above Normal,\" and lifestyle factors such as smoking, alcohol consumption, and physical activity were transformed into understandable binary labels.\n",
        "\n",
        "# Factor Combinations:\n",
        "We selected specific factor combinations to conduct a thorough analysis of how demographic, clinical, and lifestyle factors impact cardiovascular disease risk. The combinations chosen include:\n",
        "\n",
        "1. Demographic + Lifestyle:\n",
        "* Age Group + Smoking Status: This combination helps analyze how smoking behavior affects CVD risk across different age groups.\n",
        "2. Demographic + Clinical:\n",
        "* Gender + Cholesterol: By analyzing gender along with cholesterol levels, we examine how these clinical factors impact CVD differently for men and women.\n",
        "3. Combined:\n",
        "* Age Group + Blood Pressure + Physical Activity: This combination explores the interaction between age, blood pressure, and physical activity, revealing trends in how these variables together influence CVD risk."
      ],
      "metadata": {
        "id": "Ye9_EESJzshF"
      }
    },
    {
      "cell_type": "markdown",
      "source": [
        "# **4. Input and Output Description**\n",
        "\n",
        "***Input Variables***\n",
        "\n",
        "**Age:**\n",
        "1. Converted from days to years for easier interpretation.\n",
        "2. Grouped into age ranges (e.g., 0-9, 10-19, etc.) to observe patterns across different life stages.\n",
        "\n",
        "**Gender:** Mapped from categorical values of 1 (Female) and 2 (Male).\n",
        "\n",
        "**Cholesterol:** A categorical variable that has been transformed into three distinct levels:\n",
        "\"Normal\"\n",
        "\"Above Normal\"\n",
        "\"Well Above Normal\"\n",
        "\n",
        "**Glucose:** Similarly to cholesterol, glucose levels were mapped into:\n",
        "\"Normal\"\n",
        "\"Above Normal\"\n",
        "\"Well Above Normal\"\n",
        "\n",
        "**Smoking Status:** Mapped from binary values:\n",
        "0 (Non-smoker)\n",
        "1 (Smoker)\n",
        "\n",
        "**Alcohol Consumption:** Coded as a binary variable:\n",
        "0 (Non-drinker)\n",
        "1 (Drinker)\n",
        "\n",
        "**Physical Activity** classified into:\n",
        "0 (Inactive)\n",
        "1 (Active)\n",
        "\n",
        "**Cardiovascular Disease Presence:**\n",
        "A binary variable that indicates whether the individual has been diagnosed with cardiovascular disease:\n",
        "0 (No Disease)\n",
        "1 (Disease)\n",
        "\n",
        "***Output Variables:***\n",
        "\n",
        "**Cardiovascular Disease Prediction:**\n",
        "1. The primary output is a binary prediction that identifies whether an individual is likely to have cardiovascular disease based on the combination of the above input variables.\n",
        "2. This allows for a simplified \"Yes\" (1) or \"No\" (0) outcome regarding disease presence.\n",
        "\n",
        "**Patterns and Trends:**\n",
        "1. Grouped analyses to detect correlations between various factors and cardiovascular disease, focusing on:\n",
        "2. Age Group: Correlation between different age ranges and cardiovascular disease incidence.\n",
        "3. Gender Differences in Smoking Status: Analysis of smoking patterns between males and females.\n",
        "4. Cholesterol Levels and Physical Activity: Exploration of how cholesterol levels interact with physical activity, along with gender-specific trends."
      ],
      "metadata": {
        "id": "VTda36KLimkY"
      }
    },
    {
      "cell_type": "markdown",
      "source": [
        "# **5. Analysis Process**\n",
        "\n",
        "**1. Data Cleaning and Transformation**\n",
        "As part of our data preparation process, we first addressed any inconsistencies by removing duplicate entries and handling missing values, ensuring that the dataset was ready for accurate analysis. To improve the clarity and interpretation of the data, we applied the following transformations:\n",
        "* Age: Converted from days to years, and then grouped into age categories (e.g., 20–29, 30–39, etc.) to allow for easier comparison across different age groups.\n",
        "* Cholesterol and Glucose: Both were categorized into three levels—Normal, Above\n",
        "Normal, and Well Above Normal—providing a clearer indication of cardiovascular risk.\n",
        "* Gender: Recoded as 1 for Female and 2 for Male to ensure consistency in analysis.\n",
        "* Lifestyle Factors (Smoking Status, Alcohol Consumption, Physical Activity): These were represented as binary variables, with 0 indicating non-smokers, non-drinkers, or inactive individuals, and 1 for smokers, drinkers, or those who are physically active.\n",
        "This transformation process made the dataset more interpretable and allowed us to perform a more insightful analysis of cardiovascular disease trends based on these factors.\n",
        "\n",
        "**2. Visualization and Analysis**\n",
        "Once the data was cleaned and transformed, we used a range of visualizations to explore relationships between cardiovascular disease and key risk factors.We implemented interactive widgets for dynamic filtering by age group and gender, which allowed detailed exploration of trends across different demographics. Below are the visualizations we used and the insights derived from each:\n",
        "\n",
        "* **Widgets (Interactive Filters):** Dropdown widgets were created for age group and gender, enabling users to filter the dataset dynamically and explore how the visualizations change across different segments of the population.\n",
        "* **Age Group vs. Cardiovascular Disease:**To examine how age impacts cardiovascular disease prevalence, we plotted age groups against the presence of cardiovascular disease. As expected, older age groups (especially 50+) showed a higher prevalence. However, we also noticed that younger groups (particularly 30–39) exhibited a significant risk when other factors like high cholesterol or smoking were present.\n",
        "* **Gender vs. Smoking Status**: A bar chart was created to explore gender\n",
        "differences in smoking habits. Our analysis revealed that males tend to have higher smoking rates, which correlates with a slightly higher cardiovascular disease prevalence among men compared to women.\n",
        "* **Cholesterol vs. Physical Activity by Gender:** This visualization helped us\n",
        "explore the interaction between cholesterol levels, physical activity, and gender. It became clear that individuals with high cholesterol who were also physically inactive—especially males—had a substantially higher risk of cardiovascular disease.\n",
        "* **Correlation Heatmap:** To gain a deeper understanding of the relationships between the numeric variables in our dataset, we generated a correlation matrix. The heatmap highlighted strong positive correlations between factors like cholesterol levels, glucose levels, age, and the presence of cardiovascular disease. This allowed us to identify the most influential factors contributing to cardiovascular health outcomes.\n",
        "* **Age Distribution of Female Smokers:** This histogram visualizes the age distribution of female smokers. It provides insights into the prevalence of smoking among women across different age groups. The histogram revealed that female smokers are predominantly concentrated in the age range of 30 to 50 years. This helps identify the demographic that may need targeted interventions for smoking cessation programs to reduce cardiovascular risk.\n",
        "* **Age Distribution of Patients with High Cholesterol (Age > 50):** A histogram was created to show the age distribution of patients aged over 50 with elevated cholesterol levels. This visualization highlights that a significant portion of patients in this age group have cholesterol levels classified as above normal or well above normal, placing them at an increased risk of cardiovascular disease. The chart emphasized that high cholesterol is a critical factor in older adults' cardiovascular health.\n",
        "* **Age Distribution of Active Individuals with High Blood Pressure (Age > 40):** This histogram examines individuals over the age of 40 who are physically active but have elevated blood pressure (systolic blood pressure > 120 mmHg). The distribution indicates that while these individuals are active, the combination of age and high blood pressure still presents a cardiovascular risk. The analysis underlined the importance of managing blood pressure even in physically active populations.\n",
        "\n",
        "\n",
        "\n",
        "\n",
        "\n"
      ],
      "metadata": {
        "id": "TKQgxrNLq-Dr"
      }
    },
    {
      "cell_type": "markdown",
      "source": [
        "# **6. Evaluation (Gen AI)**\n",
        "\n",
        "\n"
      ],
      "metadata": {
        "id": "yw4PA2QpC-BI"
      }
    },
    {
      "cell_type": "markdown",
      "source": [
        "# Gen AI Assistance 1: Combining Code and Debugging\n",
        "\n",
        "## **1. Gen AI Prompt**\n",
        "\n",
        "**We approached Gen AI with the following request:**\n",
        "\n",
        "\"Can you help combine our two codes together? We each tried to do the code on our own and later combined it, but we ran into issues such as coding incompatibilities. We keep seeing this error:\n",
        "\n",
        "      ops.pyx in pandas._libs.ops.scalar_compare()\n",
        "      TypeError: '>' not supported between instances of 'str' and 'int'\"\n",
        "\n",
        "###**2. Gen AI Response**\n",
        "\n",
        "The AI provided the following analysis and suggestion:\n",
        "\n",
        "      The error message 'TypeError: '>' not supported between instances of 'str' and 'int'' arises in the line:\n",
        "\n",
        "      age_cholesterol_combination = df_cleaned[(df_cleaned['age_years'] > 50) & (df_cleaned['cholesterol'] > 1)]\n",
        "\n",
        "\n",
        "This indicates a type mismatch in the comparison operation. Specifically, you're likely attempting to compare a string value in the 'cholesterol' column with the integer value 1 using the '>' operator. This operation is invalid in Python, as strings and integers cannot be directly compared using numerical operators.\n",
        "\n",
        "In the code, the 'cholesterol' column is transformed using the map function, replacing its numerical values (1, 2, 3) with string labels ('Normal', 'Above Normal', 'Well Above Normal'). Consequently, when you use df_cleaned['cholesterol'] > 1, it's trying to compare these string labels with the integer 1, which causes the TypeError.\n",
        "\n",
        "\n",
        "### **3. Gen AI Response Effectiveness**\n",
        "\n",
        "The Gen AI response was very effective. After implementing the suggested changes into the code and fixing it according to the given feedback, the code worked as intended. AI had accurately identified the root cause of the error and provided a clear explanation of the type mismatch issue, so it was helpful in fixing our error.\n",
        "\n",
        "\n",
        "### **4. Modification Needed/Implementation**\n",
        "\n",
        "Based on the AI's guidance, we implemented the following modifications:\n",
        "\n",
        "* Compare 'cholesterol' with string labels instead of numerical value\n",
        "\n",
        "\n",
        "Implemented suggested changes from Gen AI:\n",
        "\n",
        "      \n",
        "      demographic_lifestyle_combination = df_cleaned[(df_cleaned['gender'] == 1) & (df_cleaned['smoke'] == 1)]\n",
        "      print(demographic_lifestyle_combination.head())\n",
        "\n",
        "      age_cholesterol_combination = df_cleaned[(df_cleaned['age_years'] > 50) & (df_cleaned['cholesterol'] != 'Normal')]  \n",
        "      print(age_cholesterol_combination.head())\n",
        "      \n",
        "      age_bp_activity = df_cleaned[(df_cleaned['age_years'] > 40) & (df_cleaned['ap_hi'] > 120) & (df_cleaned['active'] == 1)]\n",
        "      print(age_bp_activity.head())\n",
        "\n",
        "\n",
        "These changes addressed the type mismatch issue by comparing the 'cholesterol' column with string labels instead of numerical values. We also added an additional filtering condition for age, blood pressure, and activity level to further refine our analysis.\n"
      ],
      "metadata": {
        "id": "b8Ny_spngJKe"
      }
    },
    {
      "cell_type": "markdown",
      "source": [
        "# Gen AI Assistance 2: Resolving Plotting Error for Numeric Data\n",
        "\n",
        "**1. Gen AI Prompt**\n",
        "\n",
        "We encountered the following error after cleaning our data where for example smoker, non-smoker = 1 & 0. There was an issue with graphing this numerical value with the following error:\n",
        "\n",
        "\n",
        "\n",
        "      _compute_plot_data(self)\n",
        "          696         # no non-numeric frames or series allowed\n",
        "          697         if is_empty:\n",
        "      --> 698             raise TypeError(\"no numeric data to plot\")\n",
        "          699\n",
        "          700         self.data = numeric_data.apply(type(self)._convert_to_ndarray)\n",
        "      TypeError: no numeric data to plot\n",
        "\n",
        "\n",
        "So we asked Gen AI to read our code and ask for assistance by resolving this issue.\n",
        "\n",
        "\n",
        "**2. Gen AI Response**\n",
        "\n",
        "\n",
        "The AI provided the following analysis and suggestions:\n",
        "\n",
        "\"The error message 'TypeError: no numeric data to plot' indicates that the data being passed to the plot function does not contain any numeric values for plotting. This is likely happening because you are mapping values to strings in your smoke column, which would make your gender_smoke_data DataFrame contain only string (object) data type columns and no numeric data. matplotlib requires numeric values to create a plot.\n",
        "\n",
        "\n",
        "Suggested Changes:\n",
        "\n",
        "* Preserve the numeric values for the 'smoke' column.\n",
        "* Create a new column 'smoking_status' to store string data.\n",
        "* Modify the grouping and plotting code to use the numeric 'smoke' column.\n",
        "\n",
        "### **3. Gen AI Response Effectiveness**\n",
        "\n",
        "The Gen AI response was very effective. After implementing the suggested changes, the code worked as intended. The AI accurately identified the root cause of the error and provided a clear solution to preserve numeric data for plotting while still maintaining readable categories for analysis.\n",
        "\n",
        "### **4. Modification Needed/Implementation**\n",
        "\n",
        "Based on the AI's guidance, we implemented the following key modifications:\n",
        "\n",
        "1. Kept the original 'smoke' column as numeric (1 for smoker, 2 for non-smoker).\n",
        "2. Created a new 'smoking_status' column with string labels ('smoker', 'non-smoker').\n",
        "3. Modified the grouping and plotting code to use the numeric 'smoke' column instead of the string 'smoking_status'.\n",
        "\n",
        "Implemented the suggested changes by AI:\n",
        "\n",
        "      #Grouping into category groups - define Age into bins and labels\n",
        "      age_bins = [0, 10, 20, 30, 40, 50, 60, 70, 80, 90, 100]\n",
        "      age_labels = ['0-9', '10-19','20-29', '30-39', '40-49', '50-59', '60-69', '70-79', '80-89', '90-100']\n",
        "      #Create age columns\n",
        "      df['age_group'] = pd.cut(df['age_years'], bins=age_bins, labels=age_labels, right=False)\n",
        "\n",
        "      #Transform Gender codes into understandable format (1 = female, 2 = male)\n",
        "      df['gender'] = df['gender'].map({1: 'female', 2: 'male'})\n",
        "\n",
        "      #Transform Smoker codes into understandable format (1 = smoker, 2 = non-smoker)\n",
        "      # Instead of converting them to strings, keep them as numbers, or create a new column 'smoking_status' to store string data\n",
        "      df['smoking_status'] = df['smoke'].map({1: 'smoker', 2: 'non-smoker'})  # Use a different name and keep numeric values\n",
        "\n",
        "      #Transform Cholesterol levels into readable categories\n",
        "      df['cholesterol'] = df['cholesterol'].map({1: 'Normal', 2: 'Above Normal', 3: 'Well Above Normal'})\n",
        "\n",
        "      # Change the plotting code to use the numeric smoke column\n",
        "      gender_smoke_data = df.groupby(['gender','smoke'])['cardio'].mean().unstack() # groupby still expects numeric column\n",
        "      gender_smoke_data.plot(kind='bar', stacked=True)\n",
        "      plt.title('Cardiovascular Risk by Gender and Smoking Status')\n",
        "      plt.xlabel('Gender')\n",
        "      plt.ylabel('Cardiovascular Risk')\n",
        "      plt.show()\n",
        "\n",
        "\n",
        "These changes allowed us to maintain numeric data for plotting while still having readable categories for other analyses. The plot was successfully generated, showing the cardiovascular risk by gender and smoking status."
      ],
      "metadata": {
        "id": "lHHNNmG_iP_I"
      }
    },
    {
      "cell_type": "markdown",
      "source": [
        "# Gen AI Assistance 3:Resolving Visualization Error for Age Group Data\n",
        "\n",
        "**1. Gen AI Prompt**\n",
        "We encountered an issue when creating graph visualizations where it would not display the graphs. So, we asked AI to help identify the error and provide suggestions for changes.\n",
        "\n",
        "**2. Gen AI Response**\n",
        "\n",
        "The AI provided the following analysis and suggestions:\n",
        "\n",
        "\"The error message KeyError: 'age_group' indicates that the column 'age_group' is not found in the DataFrame df that you are passing to the create_visualizations function. This is likely because the data processing and cleaning steps that create the 'age_group' column (like binning and labeling the 'age' column) were performed on a different DataFrame called df_cleaned, but the original df was used in the visualization function.\n",
        "\n",
        "Suggested solutions:\n",
        "\n",
        "* Pass df_cleaned to the function: The create_visualizations function should be called with df_cleaned instead of df, as df_cleaned contains the 'age_group' column after the data processing steps.\n",
        "\n",
        "* Error Handling: Add a try-except block to the create_visualizations function to handle potential KeyError exceptions. If either 'age_group' or 'cardio_disease_presence' column is missing, it will print an informative message to help diagnose the issue and prevent the script from crashing.\n",
        "\n",
        "* Ensure the input DataFrame has 'age_group' and 'cardio_disease_presence' columns.\n",
        "\n",
        "\n",
        "\n",
        "\n",
        "\n",
        "### **3. Gen AI Response Effectiveness**\n",
        "\n",
        "The Gen AI response was very effective. The AI accurately identified the likely cause of the error and provided a clear solution with explanations for each change.\n",
        "\n",
        "### **4. Modification Needed/Implementation**\n",
        "\n",
        "Based on the AI's guidance, we implemented the following key modifications:\n",
        "\n",
        "Creating function to create visualizations\n",
        "\n",
        "        def create_visualizations(df):\n",
        "    \n",
        "If not, the try-except block will print a message and skip plotting:\n",
        "\n",
        "        try:\n",
        "            age_disease_counts = df.groupby(['age_group', 'cardio_disease_presence']).size().unstack()\n",
        "            age_disease_counts.plot(kind='bar', stacked=True, color=['skyblue', 'salmon'])\n",
        "        except KeyError as e:\n",
        "            print(f\"Error: Missing column(s) for visualization: {e}\")\n",
        "            return\n",
        "\n",
        "Call the function with the DataFrame containing 'age_group' column:\n",
        "\n",
        "        create_visualizations(df_cleaned) #Pass df_cleaned instead of df\n",
        "\n",
        "Updated the function call to use df_cleaned instead of df:\n",
        "   \n",
        "        create_visualizations(df_cleaned)\n",
        "\n",
        "These changes allowed the visualization function to work with the correct DataFrame (df_cleaned) that contains the 'age_group' column. The added error handling also provides informative messages if any required columns are missing, improving the robustness of the code."
      ],
      "metadata": {
        "id": "KFWLAq0JqPJO"
      }
    },
    {
      "cell_type": "markdown",
      "source": [
        "# **Gen AI Assistance 4: Data Cleaning**\n",
        "\n",
        "**1. Gen AI Prompt**\n",
        "\"How do I clean a dataset in Python, including removing duplicates and handling missing values?\"\n",
        "\n",
        "**2. Gen AI Response**\n",
        "\n",
        "To clean a dataset in Python, you can use the pandas library. Here's how you can remove duplicates and handle missing values\n",
        "\n"
      ],
      "metadata": {
        "id": "DLRyXVBcCGan"
      }
    },
    {
      "cell_type": "code",
      "source": [
        "import pandas as pd\n",
        "#Load dataset\n",
        "df = pd.read_csv('medical_examination.csv')\n",
        "#Remove duplicates\n",
        "df_cleaned = df.drop_duplicates()\n",
        "#Handle missing values by dropping rows with missing data\n",
        "df_cleaned = df_cleaned.dropna()\n",
        "\n",
        "#alternatively, fill missing values\n",
        "df_cleaned = df.fillna(methods = 'ffill')\n",
        "\n",
        "print(df_cleaned.head())"
      ],
      "metadata": {
        "id": "1dtD-chcQLsV"
      },
      "execution_count": null,
      "outputs": []
    },
    {
      "cell_type": "markdown",
      "source": [
        "**3. Gen AI Response Effectiveness**\n",
        "This response is useful because it directly addresses the data cleaning process, showing how to remove duplicates and handle missing values. The code provided is straightforward and can be easily implemented.\n",
        "\n",
        "**4. Modification Needed/Implementation**\n",
        "We added an additional step to convert the age from days to years, as this was a specific requirement for the assignment."
      ],
      "metadata": {
        "id": "AiL830BpQeqs"
      }
    },
    {
      "cell_type": "markdown",
      "source": [
        "# **Gen AI Assistance 5: SQL Queries in Pandas**\n"
      ],
      "metadata": {
        "id": "Ea3eQLfWGYCr"
      }
    },
    {
      "cell_type": "markdown",
      "source": [
        "**1. Gen AI Prompt**\n",
        "\n",
        "We asked Gen AI how to filter data with the following:\n",
        "\n",
        "\"How can I filter data in pandas like SQL queries, for example filtering by gender and smoking status?\"\n",
        "\n",
        "**2. Gen AI Response**\n",
        "\n",
        "You can filter data in pandas using boolean indexing, similar to SQL WHERE clauses. Here's an example of how to filter for female smokers:\n",
        "\n"
      ],
      "metadata": {
        "id": "Es8QSZfAGsSe"
      }
    },
    {
      "cell_type": "code",
      "source": [
        "#filter for gender = female and smoke = smoker\n",
        "*filtered_df = df[(df['gender'] == 1) & (df['smoke'] ==1)]*\n",
        "\n",
        "*Print(filtered_df.head())*\n"
      ],
      "metadata": {
        "id": "9KlHfND1Py7g"
      },
      "execution_count": null,
      "outputs": []
    },
    {
      "cell_type": "markdown",
      "source": [
        "**3. Gen AI Response Effectivness**\n",
        "\n",
        "The response is very effective for filtering the dataset based on specific conditions, similar to SQL queries. It directly answers the question and shows how to apply logical conditions in pandas.\n",
        "\n",
        "**4. Modification Needed/implementation**\n",
        "\n",
        "No modifications were needed as the solution provided was exactly what was required for the task."
      ],
      "metadata": {
        "id": "iPPsNeAoP2WI"
      }
    },
    {
      "cell_type": "markdown",
      "source": [
        "# **Gen AI Assistance 6: Visualizing Data With Matplotlib**\n"
      ],
      "metadata": {
        "id": "iHYW5MXIJMr_"
      }
    },
    {
      "cell_type": "markdown",
      "source": [
        "**1. Gen AI Prompt:**\n",
        "\n",
        "\"How do I create a histogram in Python to visualize the distribution of ages for a filtered dataset?\"\n",
        "\n",
        "**2. Gen AI Response:**\n",
        "\n",
        "To create a histogram in Python, you can use the matplotlib library. Here's how you can plot the distribution of ages\n",
        "\n",
        "\n"
      ],
      "metadata": {
        "id": "bjSEZWU9Jpw7"
      }
    },
    {
      "cell_type": "code",
      "source": [
        "import matplotlib.pyplot as plt\n",
        "\n",
        "#create a histogram of the 'age_years'column\n",
        "\n",
        "*plt.hist(filtered_df['age_years'], bins=10, alpha=0.7, color='blue')*\n",
        "\n",
        "*plt.title('Age distribution')*\n",
        "\n",
        "*plt.xlabel('Age(years)')*\n",
        "\n",
        "*plt.ylabel(Frequency)*\n",
        "\n",
        "*plt.show()*"
      ],
      "metadata": {
        "id": "dp1zaUjmPIlh"
      },
      "execution_count": null,
      "outputs": []
    },
    {
      "cell_type": "markdown",
      "source": [
        "**3. Gen AI Response Effectiveness:**\n",
        "\n",
        "The response effectively explains how to create a histogram using matplotlib, which is exactly what is needed to visualize the distribution of ages in the dataset.\n",
        "\n",
        "**4. Modification Needed/Implementation**\n",
        "\n",
        "No modifications were needed, as the code worked perfectly to create a histogram for the required factor combinations."
      ],
      "metadata": {
        "id": "PkAZQ-oRPN3m"
      }
    },
    {
      "cell_type": "markdown",
      "source": [
        "# **Gen AI Assistance 7. Modifying Factor Combinations For Analysis**"
      ],
      "metadata": {
        "id": "Nxo87Ve9MUUK"
      }
    },
    {
      "cell_type": "markdown",
      "source": [
        "**1. Gen AI Prompt:**\n",
        "\n",
        "\"What is the best way to analyze different combinations of demographic, clinical, and lifestyle factors in a dataset?\"\n",
        "\n",
        "**2. Gen AI Response:**\n",
        "\n",
        "To analyze combinations of factors, you can filter your dataset using multiple conditions and group the data based on the combinations of interest.\n",
        "\n",
        "\n",
        "\n"
      ],
      "metadata": {
        "id": "66JmNy2GMtMf"
      }
    },
    {
      "cell_type": "code",
      "source": [
        "#filter for age > 50 and cholesterol level > 1\n",
        "filtered_df = df[(df['age_years'] > 50) & (df['cholesterol'] > 1)]\n",
        "print(filtered_df.head())\n",
        "\n",
        "#filter for age > 40, high blood pressure, and active lifestyle\n",
        "filtered_df = df[(df['age_years'] > 40) & (df['ap_hi'] > 120) & (df['active'] == 1)]\n",
        "print(filtered_df.head())"
      ],
      "metadata": {
        "id": "4QAMadCMNmoK"
      },
      "execution_count": null,
      "outputs": []
    },
    {
      "cell_type": "markdown",
      "source": [
        "**3. Gen AI Response Effectiveness:**\n",
        "\n",
        "The response provides a clear method for analyzing multiple factor combinations, which is essential for this task. It uses logical conditions to filter data, making it simple to apply different combinations of factors.\n",
        "\n",
        "**4. Modification Needed:**\n",
        "\n",
        "No modifications were required for this, as the method provided was easy to implement and aligned with the requirements of the assignment.\n"
      ],
      "metadata": {
        "id": "zalxtO0IOb8l"
      }
    },
    {
      "cell_type": "markdown",
      "source": [
        "#**Gen AI Assistance 8: Resolving Correlation Matrix Error for Mixed Data Types**\n",
        "\n",
        "**1. Gen AI Prompt**\n",
        "\n",
        "We encountered an error when adding additional graphs and asked Gen AI to explain and help fix the error. The main error was:\n",
        "\n",
        "    ValueError: could not convert string to float: '50-59'\n",
        "\n",
        "      1662         ret = take_nd(self.categories._values, self._codes)\n",
        "      1663         if dtype and np.dtype(dtype) != self.categories.dtype:\n",
        "    -> 1664             return np.asarray(ret, dtype)\n",
        "      1665         # When we're a Categorical[ExtensionArray], like Interval,\n",
        "      1666         # we need to ensure _array_ gets all the way to an\n",
        "    ValueError: could not convert string to float: '50-59'\n",
        "\n",
        "**2. Gen AI Response**\n",
        "\n",
        "The AI provided the following analysis and suggestions:\n",
        "\n",
        "    \"Hypothesis:\n",
        "    The error 'ValueError: could not convert string to float: '50-59'' is raised because the df.corr() function, used to calculate correlation, expects numerical data. However, after the data preprocessing steps, the DataFrame df_cleaned contains columns with string values, particularly the 'age_group' column which has values like '50-59', introduced by the pd.cut function.\n",
        "    The df.corr() function attempts to convert all the data in the DataFrame to float for correlation calculation, but it fails when it encounters these string values in the 'age_group' column (and potentially other categorical columns that were transformed to strings). This leads to the ValueError.\n",
        "\n",
        "Suggested Changes:\n",
        "\n",
        "Import numpy: Add import numpy as np at the beginning if it's not already present to use numpy functions.\n",
        "\n",
        "Select Numeric Columns: Before calculating the correlation matrix, select only the numeric columns from the DataFrame using numeric_df = df.select_dtypes(include=np.number). This ensures that df.corr() is applied only to data that can be converted to floats.\"\n",
        "\n",
        "**3. Gen AI Response Effectiveness**\n",
        "\n",
        "The Gen AI response was very effective. I implemented the changes and other graph suggestions provided by the AI. The analysis accurately identified the cause of the error and provided a clear solution to resolve it.\n",
        "\n",
        "**4. Modification Needed/Implementation**\n",
        "Based on the AI's guidance, we implemented the following key modifications:\n",
        "\n",
        "Modified the correlation matrix calculation to use only numeric columns:\n",
        "\n",
        "    numeric_df = df_cleaned.select_dtypes(include=np.number)\n",
        "    correlation_matrix = numeric_df.corr()\n",
        "\n",
        "Updated the heatmap visualization code to use the new correlation_matrix:\n",
        "\n",
        "\n",
        "    plt.figure(figsize=(12, 10))\n",
        "    sns.heatmap(correlation_matrix, annot=True, cmap='coolwarm', linewidths=0.5)\n",
        "    plt.title('Correlation Heatmap of Numeric Features')\n",
        "    plt.show()\n",
        "\n",
        "These changes allowed us to generate the correlation matrix and heatmap visualization without encountering the ValueError. By selecting only numeric columns, we ensured that the correlation function could process the data correctly, avoiding issues with string values in categorical columns like 'age_group'."
      ],
      "metadata": {
        "id": "AjU5q0ZX5_F0"
      }
    },
    {
      "cell_type": "markdown",
      "source": [
        "#**Gen AI Assistance 8: Resolving NameError for Database Connection Function**\n",
        "\n",
        "\n",
        "**1. Gen AI Prompt**\n",
        "\n",
        "We encountered the following error and asked Gen AI to explain it:\n",
        "\n",
        "\n",
        "    NameError: name 'connect_to_db' is not defined\n",
        "\n",
        "**2. Gen AI Response**\n",
        "\n",
        "The AI provided the following explanation and solution:\n",
        "\n",
        "  \"The error NameError: name 'connect_to_db' is not defined arises because the function connect_to_db is being called within the main function, but it hasn't been defined anywhere in your code. This means Python doesn't know what to do when it encounters this function call, leading to the error.\n",
        "\n",
        "  To resolve this, you need to define the connect_to_db function before it's called. Here's the suggested implementation:\n",
        "\n",
        "\n",
        "      def connect_to_db(db_path):\n",
        "          \"\"\"Connects to the SQLite database.\n",
        "          Args:\n",
        "              db_path: Path to the database file.\n",
        "          Returns:\n",
        "              A database connection object, or None if the connection fails.\n",
        "          \"\"\"\n",
        "          try:\n",
        "              conn = sqlite3.connect(db_path)\n",
        "              return conn\n",
        "          except sqlite3.Error as e:\n",
        "              print(f\"Error connecting to database: {e}\")\n",
        "              return None\n",
        "\n",
        "      def load_data(conn, table_name):\n",
        "          \"\"\"Loads data from a specified table in the database.\n",
        "          Args:\n",
        "              conn: Database connection object.\n",
        "              table_name: Name of the table to load data from.\n",
        "          Returns:\n",
        "              A pandas DataFrame containing the data from the table.\n",
        "          \"\"\"\n",
        "          try:\n",
        "              df = pd.read_sql(f\"SELECT * FROM {table_name}\", conn)\n",
        "              return df\n",
        "          except pd.io.sql.DatabaseError as e:\n",
        "              print(f\"Error loading data from table '{table_name}': {e}\")\n",
        "              return None\n",
        "\n",
        "Make sure to place these function definitions before any code that calls them.\"\n",
        "\n",
        "\n",
        "**3. Gen AI Response Effectiveness**\n",
        "\n",
        "The Gen AI response was very effective. The AI accurately identified the cause of the error and provided a clear solution with well-documented function definitions.\n",
        "\n",
        "\n",
        "**4. Modification Needed/Implementation**\n",
        "\n",
        "Based on the AI's guidance, we implemented the following modifications:\n",
        "\n",
        "Added the connect_to_db function definition:\n",
        "\n",
        "    def connect_to_db(db_path):\n",
        "        try:\n",
        "            conn = sqlite3.connect(db_path)\n",
        "            return conn\n",
        "        except sqlite3.Error as e:\n",
        "            print(f\"Error connecting to database: {e}\")\n",
        "            return None\n",
        "\n",
        "Added the load_data function definition:\n",
        "\n",
        "    def load_data(conn, table_name):\n",
        "        try:\n",
        "            df = pd.read_sql(f\"SELECT * FROM {table_name}\", conn)\n",
        "            return df\n",
        "        except pd.io.sql.DatabaseError as e:\n",
        "            print(f\"Error loading data from table '{table_name}': {e}\")\n",
        "            return None\n",
        "\n",
        "Ensured these function definitions were placed before any code that calls them in the script.\n",
        "\n",
        "\n",
        "These changes resolved the NameError by properly defining the connect_to_db function before it was called. Additionally, the load_data function was implemented to facilitate data retrieval from the database. The error handling in both functions improves the robustness of the code by gracefully handling potential database connection and query errors.\n"
      ],
      "metadata": {
        "id": "nFZeVsV47gy3"
      }
    },
    {
      "cell_type": "markdown",
      "source": [
        "# **7. Interpretation and Conclusion**\n",
        "\n",
        "***1. Main Insights***\n",
        "\n",
        "Through our analysis, we gained several key insights into the relationship between cardiovascular disease and the various risk factors:\n",
        "* Age and Cardiovascular Disease: As anticipated, older age groups, especially\n",
        "those over 50 years, exhibited a higher prevalence of cardiovascular diseases. Interestingly, we also identified that younger individuals, particularly those in the 20–29 and 30–39 age groups, are not exempt from cardiovascular risks. This was especially true for those with additional risk factors such as high cholesterol or smoking habits.\n",
        "* Gender and Smoking: Our analysis highlighted that males tend to have higher\n",
        "smoking rates compared to females, which correlates with a slightly increased incidence of cardiovascular disease among males. This suggests that smoking is a significant factor in cardiovascular health disparities between genders.\n",
        "* Cholesterol, Physical Activity, and Gender: We observed that individuals with above-normal or well above-normal cholesterol levels who were also physically inactive showed a markedly higher risk of cardiovascular disease. This trend was particularly pronounced among males, further underscoring the interaction between lifestyle factors and health outcomes.\n",
        "* Correlation Analysis: The correlation heatmap revealed strong positive correlations between cardiovascular disease and factors such as cholesterol levels, glucose levels, and age. These factors appear to be the primary contributors to increased cardiovascular risk, providing valuable insight into which variables should be prioritized in preventive strategies.\n",
        "\n",
        "***2. Limitations and Improvements***\n",
        "\n",
        "While our analysis provided useful insights, there are certain limitations in the workflow and areas where improvements could be made:\n",
        "\n",
        "***Limitations:***\n",
        "\n",
        "\n",
        "* The dataset might contain missing or incomplete records, which could result in biased or inaccurate findings.\n",
        "* Our analysis focused primarily on categorical exploration, offering basic insights into the relationships between variables. While this approach helps identify trends, it does not provide a detailed predictive model for cardiovascular disease risk.\n",
        "* The study did not account for genetic factors, which are known to play a crucial role in cardiovascular diseases. Without this information, the analysis may overlook an essential determinant of health outcomes.\n",
        "\n",
        "***Improvements:***\n",
        "\n",
        "\n",
        "* Including more comprehensive datasets that factor in genetic, socioeconomic, and environmental variables could enhance the accuracy and depth of our analysis. This would provide a more holistic view of cardiovascular disease risk.\n",
        "* Applying advanced statistical models, such as logistic regression or decision trees, would offer deeper insights into the predictive factors associated with cardiovascular disease. Such models would allow us to assess the probability of disease occurrence based on a combination of variables.\n",
        "* Conducting a time-series analysis on lifestyle changes over the years could provide better insights into how continuous improvements in health behaviors impact the prevalence of cardiovascular disease over time. This would help in understanding the long-term benefits of health interventions.\n",
        "\n",
        "***Conclusion:***\n",
        "\n",
        "In conclusion, our analysis has provided valuable insights into the relationships between cardiovascular diseases and various risk factors, such as age, gender, cholesterol levels, and lifestyle behaviors like smoking and physical inactivity. While the study confirmed the expected trends, such as the heightened risk for older individuals and smokers, it also revealed less obvious patterns, particularly among younger age groups and the interaction between cholesterol levels and physical activity. These insights can serve as a foundation for designing targeted interventions to mitigate cardiovascular risks.\n",
        "\n",
        "However, the limitations of our analysis, including incomplete data and the lack of genetic and socioeconomic considerations, highlight the need for a more comprehensive approach in future research. By incorporating more diverse datasets and applying advanced modeling techniques, future analyses could yield even deeper insights, leading to more effective preventive strategies for cardiovascular health.\n",
        "\n",
        "Overall, our work demonstrates the potential of data-driven approaches in public health while also emphasizing the need for continuous improvement and refinement in analysis techniques.\n",
        "\n"
      ],
      "metadata": {
        "id": "gXmlPjCS3tKM"
      }
    },
    {
      "cell_type": "markdown",
      "source": [
        "# **8. Reflection**"
      ],
      "metadata": {
        "id": "NiGg-TWwDg4k"
      }
    },
    {
      "cell_type": "markdown",
      "source": [
        "**Reflection - Siddheshwari Sawant (22053604)**\n",
        "\n",
        "Reflecting on this group assignment, I feel confident of what we accomplished together. My main contribution was to the business report notebook, where I focused on organizing our analysis and presenting our findings in a clear way. I also created the GitHub repository and set up the two notebooks we needed for this assessment, ensuring everyone had access to the materials. While my teammates worked on the technical parts like data analysis and coding, I made sure our interpretations matched the insights we got from the data. This meant turning results from visualizations—like how age groups relate to cardiovascular disease or the impact of smoking by gender—into meaningful conclusions for the business report. I collaborated closely with the team to make sure our work fit well with the coding and visualizations in the development notebook, resulting in a polished final product.\n",
        "\n",
        "Throughout this project, I achieved the unit’s learning outcomes, especially in understanding how data analysis connects to real-world business applications. For instance, during lectures and lab activities, I learned how risk factors like cholesterol levels and physical inactivity affect cardiovascular health. These lessons were crucial when I was putting together the business report because they helped me not only describe our findings but also analyze their importance in real-life situations. I also learned how to work effectively in a team, applying project management skills like task delegation and open communication, which were emphasized in class. Two key takeaways for me were learning to create meaningful data visualizations and appreciating the value of teamwork in tackling complex projects.\n",
        "\n",
        "However, we faced some challenges, especially when it came to our busy schedules with work and other assignments. At first, it was tough to find times when everyone could meet to discuss our progress. To tackle this, we set up a shared calendar where each team member could mark their availability. This helped us find overlapping times for meetings. We also agreed to keep in touch through a group chat, so even if some of us couldn’t meet, we could still share updates and stay informed. This approach created a supportive environment, allowing us to work together effectively despite our busy schedules.\n",
        "\n",
        "We also faced some issues with the Gen AI tools we used. While they were helpful in generating code snippets and troubleshooting, sometimes the AI provided responses that were too general or didn’t fit our specific needs. For example, when we visualized cholesterol levels based on physical activity and gender, the AI's initial code didn’t fully address the categories we wanted to highlight. To fix this, we started documenting our interactions with Gen AI using a simple structure: prompt, response, effectiveness, and modifications. This practice helped us refine our prompts and better tailor the AI's outputs to our project’s needs.\n",
        "\n",
        "Our instructor was also a great help, guiding us on how to structure our evaluations in the business report. This feedback helped us connect our analysis with the data insights, making our work stronger.\n",
        "\n",
        "Overall, teamwork was a highlight of this project. We communicated regularly through meetings and group chats, which made sure everyone was clear on their roles. I enjoyed collaborating with my teammates on both the business and technical sides of the project. This experience not only enhanced my technical skills but also improved my ability to work effectively in a team, which will be valuable for future projects and my professional career."
      ],
      "metadata": {
        "id": "_mjAj6ZYo0RN"
      }
    }
  ]
}