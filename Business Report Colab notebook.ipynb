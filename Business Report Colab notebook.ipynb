{
  "nbformat": 4,
  "nbformat_minor": 0,
  "metadata": {
    "colab": {
      "provenance": [],
      "include_colab_link": true
    },
    "kernelspec": {
      "name": "python3",
      "display_name": "Python 3"
    },
    "language_info": {
      "name": "python"
    }
  },
  "cells": [
    {
      "cell_type": "markdown",
      "metadata": {
        "id": "view-in-github",
        "colab_type": "text"
      },
      "source": [
        "<a href=\"https://colab.research.google.com/github/22053604/Cardiovascular-Health-Analysis/blob/main/Business%20Report%20Colab%20notebook.ipynb\" target=\"_parent\"><img src=\"https://colab.research.google.com/assets/colab-badge.svg\" alt=\"Open In Colab\"/></a>"
      ]
    },
    {
      "cell_type": "markdown",
      "source": [
        "## Business Notebook: **Cardiovascular Health Analysis**\n",
        "\n",
        "\n"
      ],
      "metadata": {
        "id": "1m82Zu6_Zkpl"
      }
    },
    {
      "cell_type": "markdown",
      "source": [
        "# **1. Overview**\n",
        "\n",
        "In this assessment, we analyzed a cardiovascular health dataset to understand the relationship between various factors—demographic, clinical, and lifestyle—on cardiovascular disease (CVD) risk. Using Python in Google Colab, we performed data cleaning, preprocessing, and exploratory data analysis (EDA) on the dataset. We focused on key combinations of factors (e.g., age, cholesterol, smoking status) and examined how these relate to the likelihood of developing CVD. To support our analysis, we generated visualizations such as bar charts and scatter plots, revealing trends and insights into cardiovascular health. Additionally, we followed a structured process to ensure that the code was organized, efficient, and tested. The results from this analysis are intended to provide actionable recommendations for reducing CVD risk, as well as insights into patterns in cardiovascular health.\n"
      ],
      "metadata": {
        "id": "dorash9iZtMy"
      }
    },
    {
      "cell_type": "markdown",
      "source": [
        "# **2. Problem Solving Methodology**\n",
        "\n",
        "\n",
        "# Problem Statement\n",
        "Cardiovascular disease (CVD) is one of the leading causes of death globally, affecting millions of individuals each year. Given the complex interaction of demographic factors (such as age and gender), clinical factors (such as blood pressure and cholesterol levels), and lifestyle factors (such as smoking and physical activity), there is a pressing need to identify patterns that could help predict and prevent CVD. This assessment seeks to investigate the relationships between these variables and cardiovascular health outcomes, with a particular focus on determining which factor combinations are the most significant predictors of CVD. By understanding these relationships, we aim to support healthcare professionals and policymakers in developing targeted interventions to reduce the prevalence of CVD.\n",
        "\n",
        "# Objectives\n",
        "The objective of this assessment is to conduct a comprehensive analysis of a cardiovascular health dataset to uncover patterns and correlations between demographic, clinical, and lifestyle factors and the risk of developing cardiovascular disease. Specifically, the analysis will:\n",
        "1. Identify the most significant demographic, clinical, and lifestyle predictors of cardiovascular disease.\n",
        "2. Analyze different combinations of factors to determine which contribute most to CVD risk.\n",
        "3. Provide actionable insights that can inform public health strategies to prevent and manage CVD.\n",
        "4. Generate visualizations that clearly present the relationships between these factors and cardiovascular health, supporting the interpretation of the results."
      ],
      "metadata": {
        "id": "Dz167rU_bNog"
      }
    },
    {
      "cell_type": "markdown",
      "source": [
        "#**3. Dataset and Factor Selection**\n",
        "The dataset includes information such as age, gender, cholesterol levels, glucose levels, smoking status, physical activity, alcohol consumption, and the presence of cardiovascular disease (CVD).\n",
        "\n",
        "After loading the data from the medical_examination table in the SQLite database, we conducted data cleaning by removing duplicates and converting age from days into years. The factors were then categorized into more readable formats. For example, age was grouped into bins, cholesterol and glucose levels were categorized into \"Normal,\" \"Above Normal,\" and \"Well Above Normal,\" and lifestyle factors such as smoking, alcohol consumption, and physical activity were transformed into understandable binary labels.\n",
        "\n",
        "# Factor Combinations:\n",
        "We selected specific factor combinations to conduct a thorough analysis of how demographic, clinical, and lifestyle factors impact cardiovascular disease risk. The combinations chosen include:\n",
        "\n",
        "1. Demographic + Lifestyle:\n",
        "* Age Group + Smoking Status: This combination helps analyze how smoking behavior affects CVD risk across different age groups.\n",
        "2. Demographic + Clinical:\n",
        "* Gender + Cholesterol: By analyzing gender along with cholesterol levels, we examine how these clinical factors impact CVD differently for men and women.\n",
        "3. Combined:\n",
        "* Age Group + Blood Pressure + Physical Activity: This combination explores the interaction between age, blood pressure, and physical activity, revealing trends in how these variables together influence CVD risk."
      ],
      "metadata": {
        "id": "Ye9_EESJzshF"
      }
    },
    {
      "cell_type": "markdown",
      "source": [
        "# **4. Input and Output Description**\n",
        "\n",
        "***Input Variables***\n",
        "\n",
        "**Age:**\n",
        "1. Converted from days to years for easier interpretation.\n",
        "2. Grouped into age ranges (e.g., 0-9, 10-19, etc.) to observe patterns across different life stages.\n",
        "\n",
        "**Gender:** Mapped from categorical values of 1 (Female) and 2 (Male).\n",
        "\n",
        "**Cholesterol:** A categorical variable that has been transformed into three distinct levels:\n",
        "\"Normal\"\n",
        "\"Above Normal\"\n",
        "\"Well Above Normal\"\n",
        "\n",
        "**Glucose:** Similarly to cholesterol, glucose levels were mapped into:\n",
        "\"Normal\"\n",
        "\"Above Normal\"\n",
        "\"Well Above Normal\"\n",
        "\n",
        "**Smoking Status:** Mapped from binary values:\n",
        "0 (Non-smoker)\n",
        "1 (Smoker)\n",
        "\n",
        "**Alcohol Consumption:** Coded as a binary variable:\n",
        "0 (Non-drinker)\n",
        "1 (Drinker)\n",
        "\n",
        "**Physical Activity** classified into:\n",
        "0 (Inactive)\n",
        "1 (Active)\n",
        "\n",
        "**Cardiovascular Disease Presence:**\n",
        "A binary variable that indicates whether the individual has been diagnosed with cardiovascular disease:\n",
        "0 (No Disease)\n",
        "1 (Disease)\n",
        "\n",
        "***Output Variables:***\n",
        "\n",
        "**Cardiovascular Disease Prediction:**\n",
        "1. The primary output is a binary prediction that identifies whether an individual is likely to have cardiovascular disease based on the combination of the above input variables.\n",
        "2. This allows for a simplified \"Yes\" (1) or \"No\" (0) outcome regarding disease presence.\n",
        "\n",
        "**Patterns and Trends:**\n",
        "1. Grouped analyses to detect correlations between various factors and cardiovascular disease, focusing on:\n",
        "2. Age Group: Correlation between different age ranges and cardiovascular disease incidence.\n",
        "3. Gender Differences in Smoking Status: Analysis of smoking patterns between males and females.\n",
        "4. Cholesterol Levels and Physical Activity: Exploration of how cholesterol levels interact with physical activity, along with gender-specific trends."
      ],
      "metadata": {
        "id": "VTda36KLimkY"
      }
    },
    {
      "cell_type": "markdown",
      "source": [
        "# **5. Analysis Process**\n",
        "\n",
        "**1. Data Cleaning and Transformation**\n",
        "As part of our data preparation process, we first addressed any inconsistencies by removing duplicate entries and handling missing values, ensuring that the dataset was ready for accurate analysis. To improve the clarity and interpretation of the data, we applied the following transformations:\n",
        "* Age: Converted from days to years, and then grouped into age categories (e.g., 20–29, 30–39, etc.) to allow for easier comparison across different age groups.\n",
        "* Cholesterol and Glucose: Both were categorized into three levels—Normal, Above\n",
        "Normal, and Well Above Normal—providing a clearer indication of cardiovascular risk.\n",
        "* Gender: Recoded as 1 for Female and 2 for Male to ensure consistency in analysis.\n",
        "* Lifestyle Factors (Smoking Status, Alcohol Consumption, Physical Activity): These were represented as binary variables, with 0 indicating non-smokers, non-drinkers, or inactive individuals, and 1 for smokers, drinkers, or those who are physically active.\n",
        "This transformation process made the dataset more interpretable and allowed us to perform a more insightful analysis of cardiovascular disease trends based on these factors.\n",
        "\n",
        "**2. Visualization and Analysis**\n",
        "Once the data was cleaned and transformed, we used a range of visualizations to explore relationships between cardiovascular disease and key risk factors. Below are the visualizations we used and the insights derived from each:\n",
        "\n",
        "* Age Group vs. Cardiovascular Disease: To examine how age impacts cardiovascular disease prevalence, we plotted age groups against the presence of cardiovascular disease. As expected, older age groups (especially 50+) showed a higher prevalence. However, we also noticed that younger groups (particularly 30–39) exhibited a significant risk when other factors like high cholesterol or smoking were present.\n",
        "* Gender vs. Smoking Status: A bar chart was created to explore gender differences in smoking habits. Our analysis revealed that males tend to have higher smoking rates, which correlates with a slightly higher cardiovascular disease prevalence among men compared to women.\n",
        "* Cholesterol vs. Physical Activity by Gender: This visualization helped us\n",
        "explore the interaction between cholesterol levels, physical activity, and gender. It became clear that individuals with high cholesterol who were also physically inactive—especially males—had a substantially higher risk of cardiovascular disease.\n",
        "* Correlation Heatmap: To gain a deeper understanding of the relationships between the numeric variables in our dataset, we generated a correlation matrix. The heatmap highlighted strong positive correlations between factors like cholesterol levels, glucose levels, age, and the presence of cardiovascular disease. This allowed us to identify the most influential factors contributing to cardiovascular health outcomes."
      ],
      "metadata": {
        "id": "TKQgxrNLq-Dr"
      }
    },
    {
      "cell_type": "markdown",
      "source": [
        "\n",
        "\n",
        "\n",
        "\n"
      ],
      "metadata": {
        "id": "o5ULm5nBh_MN"
      }
    },
    {
      "cell_type": "markdown",
      "source": [
        "\n",
        "\n"
      ],
      "metadata": {
        "id": "Ibro8QenbXyn"
      }
    },
    {
      "cell_type": "markdown",
      "source": [],
      "metadata": {
        "id": "IoGrF56lNvvW"
      }
    },
    {
      "cell_type": "markdown",
      "source": [
        "\n",
        "\n",
        "\n",
        "\n"
      ],
      "metadata": {
        "id": "n4CsZSWuleCG"
      }
    },
    {
      "cell_type": "code",
      "execution_count": null,
      "metadata": {
        "id": "kOqORmrqM01P"
      },
      "outputs": [],
      "source": [
        "\n",
        "\n"
      ]
    },
    {
      "cell_type": "markdown",
      "source": [],
      "metadata": {
        "id": "wA4Hjjdgqupn"
      }
    },
    {
      "cell_type": "code",
      "source": [
        "#Established a connection to the SQLite database\n",
        "db_path = '/content/cardio_health.db'\n",
        "conn = sqlite3.connect('cardiohealth.db')\n",
        "cursor = conn.cursor()\n",
        "\n",
        "#Retrieve and display table names\n",
        "cursor.execute(\"SELECT name FROM sqlite_master WHERE type='table';\")\n",
        "tables = cursor.fetchall()\n",
        "print(\"Tables in the database:\", tables)"
      ],
      "metadata": {
        "id": "adCgTxcun2Fb",
        "colab": {
          "base_uri": "https://localhost:8080/"
        },
        "collapsed": true,
        "outputId": "84038f29-1e2d-4247-87da-d72e0eec7b40"
      },
      "execution_count": null,
      "outputs": [
        {
          "output_type": "stream",
          "name": "stdout",
          "text": [
            "Tables in the database: [('medical_examination',)]\n"
          ]
        }
      ]
    },
    {
      "cell_type": "markdown",
      "source": [
        "# Step 4: Extract Data and Saves to Pandas Dataframe\n",
        "\n",
        "*   Saves results to Pandas Dataframe\n",
        "\n",
        "\n",
        "\n",
        "\n",
        "\n"
      ],
      "metadata": {
        "id": "-1eycePescUi"
      }
    },
    {
      "cell_type": "code",
      "source": [
        "#Export all tables to CSV files &  Panadas dataframe\n",
        "for table_name in tables:\n",
        "    df = pd.read_sql(f\"SELECT * FROM {table_name[0]}\", conn)\n",
        "    csv_file_name = f\"{table_name[0]}.csv\"\n",
        "    df.to_csv(csv_file_name, index=False)\n",
        "    print(f\"Exported {table_name[0]} to {csv_file_name}\")\n",
        "\n",
        "#Load data from medical_examnination table\n",
        "query = \"SELECT * FROM medical_examination\"\n",
        "df = pd.read_sql(query, conn)"
      ],
      "metadata": {
        "id": "U_OXDwxWsloU",
        "outputId": "244d83d8-2e5c-44fd-92dc-d2376f148c3e",
        "colab": {
          "base_uri": "https://localhost:8080/"
        }
      },
      "execution_count": null,
      "outputs": [
        {
          "output_type": "stream",
          "name": "stdout",
          "text": [
            "Exported medical_examination to medical_examination.csv\n"
          ]
        }
      ]
    },
    {
      "cell_type": "markdown",
      "source": [
        "# Step 5: Data Cleaning\n",
        "\n",
        "1.   Handle missing values\n",
        "2.   Since age is provided in days, convert age to years to make it more interpretable and user friendly\n",
        "\n",
        "\n"
      ],
      "metadata": {
        "id": "uEigfqVhs6oS"
      }
    },
    {
      "cell_type": "code",
      "source": [
        "#Show the missing values\n",
        "print(\"Missing values in dataset: \")\n",
        "print(df.isnull().sum())\n",
        "\n",
        "#Converting age from days to years\n",
        "df['age_years'] = df['age'] / 365\n"
      ],
      "metadata": {
        "colab": {
          "base_uri": "https://localhost:8080/"
        },
        "collapsed": true,
        "id": "-kyMb7CXtJl3",
        "outputId": "50e0424b-febf-4135-b711-e8ed45be0173"
      },
      "execution_count": null,
      "outputs": [
        {
          "output_type": "stream",
          "name": "stdout",
          "text": [
            "Missing values in dataset: \n",
            "id             0\n",
            "age            0\n",
            "gender         0\n",
            "height         0\n",
            "weight         0\n",
            "ap_hi          0\n",
            "ap_lo          0\n",
            "cholesterol    0\n",
            "gluc           0\n",
            "smoke          0\n",
            "alco           0\n",
            "active         0\n",
            "cardio         0\n",
            "age_years      0\n",
            "dtype: int64\n"
          ]
        }
      ]
    },
    {
      "cell_type": "markdown",
      "source": [
        "# Step 6: Factors Combination Analysis\n",
        "\n",
        "First, create group age into specific categories (10-19, 20-29, 30-31, etc.) for easier analysis and simplier data visualisation\n",
        "\n",
        "Secondly, transform code into readable format (e.g. 1, 2 = female, male)\n",
        "\n",
        "1. Demographic and Lifestyle factor\n",
        "\n",
        "2. Demographic and Clinical factor\n",
        "\n",
        "3. Demographic, Lifestyle and Clinical factor\n",
        "\n",
        "\n"
      ],
      "metadata": {
        "id": "_QhpZfQvtvxu"
      }
    },
    {
      "cell_type": "code",
      "source": [
        "#Grouping into category groups\n",
        "\n",
        "#Define Age into bins and labels\n",
        "age_bins = [0, 10, 20, 30, 40, 50, 60, 70, 80, 90, 100]\n",
        "age_labels = ['0-9', '10-19','20-29', '30-39', '40-49', '50-59', '60-69', '70-79', '80-89', '90-100']\n",
        "#Create age columns\n",
        "df['age_group'] = pd.cut(df['age_years'], bins=age_bins, labels=age_labels, right=False)\n",
        "\n",
        "#Transform Gender codes into understandable format (1 = female, 2 = male)\n",
        "df['gender'] = df['gender'].map({1: 'female', 2: 'male'})\n",
        "\n",
        "#Transform Cholesterol levels into readable categories\n",
        "df['cholesterol'] = df['cholesterol'].map({1: 'Normal', 2: 'Above Normal', 3: 'Well Above Normal'})"
      ],
      "metadata": {
        "id": "6NgckNlIx69w"
      },
      "execution_count": null,
      "outputs": []
    },
    {
      "cell_type": "markdown",
      "source": [
        "# Step 7: Create Data Visualisations and Graphs\n"
      ],
      "metadata": {
        "id": "WTZ1Z5CPuqno"
      }
    },
    {
      "cell_type": "code",
      "source": [
        "gender_smoke_data = df.groupby(['gender','smoke'])['cardio'].mean().unstack()\n",
        "gender_smoke_data.plot(kind='bar', stacked=True)\n",
        "plt.title('Cardiovascular Risk by Gender and Smoking Status')\n",
        "plt.xlabel('Gender')\n",
        "plt.ylabel('Cardiovascular Risk')\n",
        "plt.show()"
      ],
      "metadata": {
        "colab": {
          "base_uri": "https://localhost:8080/",
          "height": 506
        },
        "collapsed": true,
        "id": "ayOZcxfKu91H",
        "outputId": "a64b620c-40f8-4bae-842a-74de38a2f4e1"
      },
      "execution_count": null,
      "outputs": [
        {
          "output_type": "display_data",
          "data": {
            "text/plain": [
              "<Figure size 640x480 with 1 Axes>"
            ],
            "image/png": "[encoded data removed]"
          },
          "metadata": {}
        }
      ]
    }
  ]
}