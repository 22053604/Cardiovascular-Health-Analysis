{
  "nbformat": 4,
  "nbformat_minor": 0,
  "metadata": {
    "colab": {
      "provenance": [],
      "include_colab_link": true
    },
    "kernelspec": {
      "name": "python3",
      "display_name": "Python 3"
    },
    "language_info": {
      "name": "python"
    },
    "widgets": {
      "application/vnd.jupyter.widget-state+json": {
        "ef786170c23444b0984ee2eb9fd80514": {
          "model_module": "@jupyter-widgets/controls",
          "model_name": "VBoxModel",
          "model_module_version": "1.5.0",
          "state": {
            "_dom_classes": [
              "widget-interact"
            ],
            "_model_module": "@jupyter-widgets/controls",
            "_model_module_version": "1.5.0",
            "_model_name": "VBoxModel",
            "_view_count": null,
            "_view_module": "@jupyter-widgets/controls",
            "_view_module_version": "1.5.0",
            "_view_name": "VBoxView",
            "box_style": "",
            "children": [
              "IPY_MODEL_7c99cd06a5d0448fb45566384a89bd4c"
            ],
            "layout": "IPY_MODEL_d0d03cb426ae4116b97f781cfee517d0"
          }
        },
        "7c99cd06a5d0448fb45566384a89bd4c": {
          "model_module": "@jupyter-widgets/output",
          "model_name": "OutputModel",
          "model_module_version": "1.0.0",
          "state": {
            "_dom_classes": [],
            "_model_module": "@jupyter-widgets/output",
            "_model_module_version": "1.0.0",
            "_model_name": "OutputModel",
            "_view_count": null,
            "_view_module": "@jupyter-widgets/output",
            "_view_module_version": "1.0.0",
            "_view_name": "OutputView",
            "layout": "IPY_MODEL_bbc0046de7054c3db5b547ca9d914e99",
            "msg_id": "",
            "outputs": [
              {
                "output_type": "error",
                "ename": "NameError",
                "evalue": "name 'age_filter' is not defined",
                "traceback": [
                  "\u001b[0;31m---------------------------------------------------------------------------\u001b[0m",
                  "\u001b[0;31mNameError\u001b[0m                                 Traceback (most recent call last)",
                  "\u001b[0;32m/usr/local/lib/python3.10/dist-packages/ipywidgets/widgets/interaction.py\u001b[0m in \u001b[0;36mupdate\u001b[0;34m(self, *args)\u001b[0m\n\u001b[1;32m    255\u001b[0m                     \u001b[0mvalue\u001b[0m \u001b[0;34m=\u001b[0m \u001b[0mwidget\u001b[0m\u001b[0;34m.\u001b[0m\u001b[0mget_interact_value\u001b[0m\u001b[0;34m(\u001b[0m\u001b[0;34m)\u001b[0m\u001b[0;34m\u001b[0m\u001b[0;34m\u001b[0m\u001b[0m\n\u001b[1;32m    256\u001b[0m                     \u001b[0mself\u001b[0m\u001b[0;34m.\u001b[0m\u001b[0mkwargs\u001b[0m\u001b[0;34m[\u001b[0m\u001b[0mwidget\u001b[0m\u001b[0;34m.\u001b[0m\u001b[0m_kwarg\u001b[0m\u001b[0;34m]\u001b[0m \u001b[0;34m=\u001b[0m \u001b[0mvalue\u001b[0m\u001b[0;34m\u001b[0m\u001b[0;34m\u001b[0m\u001b[0m\n\u001b[0;32m--> 257\u001b[0;31m                 \u001b[0mself\u001b[0m\u001b[0;34m.\u001b[0m\u001b[0mresult\u001b[0m \u001b[0;34m=\u001b[0m \u001b[0mself\u001b[0m\u001b[0;34m.\u001b[0m\u001b[0mf\u001b[0m\u001b[0;34m(\u001b[0m\u001b[0;34m**\u001b[0m\u001b[0mself\u001b[0m\u001b[0;34m.\u001b[0m\u001b[0mkwargs\u001b[0m\u001b[0;34m)\u001b[0m\u001b[0;34m\u001b[0m\u001b[0;34m\u001b[0m\u001b[0m\n\u001b[0m\u001b[1;32m    258\u001b[0m                 \u001b[0mshow_inline_matplotlib_plots\u001b[0m\u001b[0;34m(\u001b[0m\u001b[0;34m)\u001b[0m\u001b[0;34m\u001b[0m\u001b[0;34m\u001b[0m\u001b[0m\n\u001b[1;32m    259\u001b[0m                 \u001b[0;32mif\u001b[0m \u001b[0mself\u001b[0m\u001b[0;34m.\u001b[0m\u001b[0mauto_display\u001b[0m \u001b[0;32mand\u001b[0m \u001b[0mself\u001b[0m\u001b[0;34m.\u001b[0m\u001b[0mresult\u001b[0m \u001b[0;32mis\u001b[0m \u001b[0;32mnot\u001b[0m \u001b[0;32mNone\u001b[0m\u001b[0;34m:\u001b[0m\u001b[0;34m\u001b[0m\u001b[0;34m\u001b[0m\u001b[0m\n",
                  "\u001b[0;32m<ipython-input-18-e31b16fd86fd>\u001b[0m in \u001b[0;36mcreate_visualisations\u001b[0;34m(df)\u001b[0m\n\u001b[1;32m      3\u001b[0m \u001b[0;34m\u001b[0m\u001b[0m\n\u001b[1;32m      4\u001b[0m     filtered_df = df_cleaned[\n\u001b[0;32m----> 5\u001b[0;31m         \u001b[0;34m(\u001b[0m\u001b[0mdf_cleaned\u001b[0m\u001b[0;34m[\u001b[0m\u001b[0;34m'age_group'\u001b[0m\u001b[0;34m]\u001b[0m \u001b[0;34m==\u001b[0m \u001b[0mage_filter\u001b[0m\u001b[0;34m)\u001b[0m \u001b[0;34m&\u001b[0m\u001b[0;34m\u001b[0m\u001b[0;34m\u001b[0m\u001b[0m\n\u001b[0m\u001b[1;32m      6\u001b[0m         \u001b[0;34m(\u001b[0m\u001b[0mdf_cleaned\u001b[0m\u001b[0;34m[\u001b[0m\u001b[0;34m'gender'\u001b[0m\u001b[0;34m]\u001b[0m \u001b[0;34m==\u001b[0m \u001b[0mgender_filter\u001b[0m\u001b[0;34m)\u001b[0m \u001b[0;34m&\u001b[0m\u001b[0;34m\u001b[0m\u001b[0;34m\u001b[0m\u001b[0m\n\u001b[1;32m      7\u001b[0m         \u001b[0;34m(\u001b[0m\u001b[0mdf_cleaned\u001b[0m\u001b[0;34m[\u001b[0m\u001b[0;34m'cholesterol'\u001b[0m\u001b[0;34m]\u001b[0m \u001b[0;34m==\u001b[0m \u001b[0mcholesterol_filter\u001b[0m\u001b[0;34m)\u001b[0m \u001b[0;34m&\u001b[0m\u001b[0;34m\u001b[0m\u001b[0;34m\u001b[0m\u001b[0m\n",
                  "\u001b[0;31mNameError\u001b[0m: name 'age_filter' is not defined"
                ]
              }
            ]
          }
        },
        "d0d03cb426ae4116b97f781cfee517d0": {
          "model_module": "@jupyter-widgets/base",
          "model_name": "LayoutModel",
          "model_module_version": "1.2.0",
          "state": {
            "_model_module": "@jupyter-widgets/base",
            "_model_module_version": "1.2.0",
            "_model_name": "LayoutModel",
            "_view_count": null,
            "_view_module": "@jupyter-widgets/base",
            "_view_module_version": "1.2.0",
            "_view_name": "LayoutView",
            "align_content": null,
            "align_items": null,
            "align_self": null,
            "border": null,
            "bottom": null,
            "display": null,
            "flex": null,
            "flex_flow": null,
            "grid_area": null,
            "grid_auto_columns": null,
            "grid_auto_flow": null,
            "grid_auto_rows": null,
            "grid_column": null,
            "grid_gap": null,
            "grid_row": null,
            "grid_template_areas": null,
            "grid_template_columns": null,
            "grid_template_rows": null,
            "height": null,
            "justify_content": null,
            "justify_items": null,
            "left": null,
            "margin": null,
            "max_height": null,
            "max_width": null,
            "min_height": null,
            "min_width": null,
            "object_fit": null,
            "object_position": null,
            "order": null,
            "overflow": null,
            "overflow_x": null,
            "overflow_y": null,
            "padding": null,
            "right": null,
            "top": null,
            "visibility": null,
            "width": null
          }
        },
        "bbc0046de7054c3db5b547ca9d914e99": {
          "model_module": "@jupyter-widgets/base",
          "model_name": "LayoutModel",
          "model_module_version": "1.2.0",
          "state": {
            "_model_module": "@jupyter-widgets/base",
            "_model_module_version": "1.2.0",
            "_model_name": "LayoutModel",
            "_view_count": null,
            "_view_module": "@jupyter-widgets/base",
            "_view_module_version": "1.2.0",
            "_view_name": "LayoutView",
            "align_content": null,
            "align_items": null,
            "align_self": null,
            "border": null,
            "bottom": null,
            "display": null,
            "flex": null,
            "flex_flow": null,
            "grid_area": null,
            "grid_auto_columns": null,
            "grid_auto_flow": null,
            "grid_auto_rows": null,
            "grid_column": null,
            "grid_gap": null,
            "grid_row": null,
            "grid_template_areas": null,
            "grid_template_columns": null,
            "grid_template_rows": null,
            "height": null,
            "justify_content": null,
            "justify_items": null,
            "left": null,
            "margin": null,
            "max_height": null,
            "max_width": null,
            "min_height": null,
            "min_width": null,
            "object_fit": null,
            "object_position": null,
            "order": null,
            "overflow": null,
            "overflow_x": null,
            "overflow_y": null,
            "padding": null,
            "right": null,
            "top": null,
            "visibility": null,
            "width": null
          }
        }
      }
    }
  },
  "cells": [
    {
      "cell_type": "markdown",
      "metadata": {
        "id": "view-in-github",
        "colab_type": "text"
      },
      "source": [
        "<a href=\"https://colab.research.google.com/github/22053604/Cardiovascular-Health-Analysis/blob/main/Development_Notebook.ipynb\" target=\"_parent\"><img src=\"https://colab.research.google.com/assets/colab-badge.svg\" alt=\"Open In Colab\"/></a>"
      ]
    },
    {
      "cell_type": "markdown",
      "source": [
        "# **Version Control**"
      ],
      "metadata": {
        "id": "m4lRi9BXhlnV"
      }
    },
    {
      "cell_type": "markdown",
      "source": [
        "# Pseudocode\n",
        "\n",
        "...."
      ],
      "metadata": {
        "id": "RVRPHSMOXjgG"
      }
    },
    {
      "cell_type": "code",
      "execution_count": 4,
      "metadata": {
        "id": "gWNXzOv8XoU5"
      },
      "outputs": [],
      "source": [
        "#import necessary libraries\n",
        "import sqlite3\n",
        "import pandas as pd\n",
        "import numpy as np\n",
        "import matplotlib.pyplot as plt\n",
        "import ipywidgets as widgets"
      ]
    },
    {
      "cell_type": "code",
      "source": [
        "#Established a connection to the SQLite database\n",
        "db_path = '/content/cardio_health.db'\n",
        "conn = sqlite3.connect('cardiohealth.db')\n",
        "cursor = conn.cursor()\n",
        "\n",
        "#Function for error if problem connecting to SQLite database\n",
        "try:\n",
        "    conn = sqlite3.connect('cardiohealth.db')\n",
        "except sqlite3.Error as e:\n",
        "    print(f\"Error connecting to database: {e}\")\n",
        "\n",
        "#Retrieve and display table names\n",
        "cursor.execute(\"SELECT name FROM sqlite_master WHERE type='table';\")\n",
        "tables = cursor.fetchall()\n",
        "print(\"Tables in the database:\", tables)"
      ],
      "metadata": {
        "id": "FY1aWyRyhr0R",
        "colab": {
          "base_uri": "https://localhost:8080/"
        },
        "outputId": "bc25eb9e-db77-4da0-cbe4-936cc7a11366"
      },
      "execution_count": 9,
      "outputs": [
        {
          "output_type": "stream",
          "name": "stdout",
          "text": [
            "Tables in the database: [('medical_examination',)]\n"
          ]
        }
      ]
    },
    {
      "cell_type": "code",
      "source": [
        "#Export all tables to CSV files &  Panadas dataframe\n",
        "for table_name in tables:\n",
        "    df = pd.read_sql(f\"SELECT * FROM {table_name[0]}\", conn)\n",
        "    csv_file_name = f\"{table_name[0]}.csv\"\n",
        "    df.to_csv(csv_file_name, index=False)\n",
        "    print(f\"Exported {table_name[0]} to {csv_file_name}\")\n",
        "\n",
        "#Load data from medical_examnination table\n",
        "query = \"SELECT * FROM medical_examination\"\n",
        "df = pd.read_sql(query, conn)\n",
        "\n",
        "#Display tables\n",
        "df = pd.read_csv('/content/medical_examination.csv')\n",
        "print(df.head())"
      ],
      "metadata": {
        "id": "AfOwUjqkiep0",
        "colab": {
          "base_uri": "https://localhost:8080/"
        },
        "outputId": "86cc16b7-26d9-4f0c-8577-fe4cb69b0e50",
        "collapsed": true
      },
      "execution_count": 10,
      "outputs": [
        {
          "output_type": "stream",
          "name": "stdout",
          "text": [
            "Exported medical_examination to medical_examination.csv\n",
            "   id    age  gender  height  weight  ap_hi  ap_lo  cholesterol  gluc  smoke  \\\n",
            "0   0  18393       2     168    62.0    110     80            1     1      0   \n",
            "1   1  20228       1     156    85.0    140     90            3     1      0   \n",
            "2   2  18857       1     165    64.0    130     70            3     1      0   \n",
            "3   3  17623       2     169    82.0    150    100            1     1      0   \n",
            "4   4  17474       1     156    56.0    100     60            1     1      0   \n",
            "\n",
            "   alco  active  cardio  \n",
            "0     0       1       0  \n",
            "1     0       1       1  \n",
            "2     0       0       1  \n",
            "3     0       1       1  \n",
            "4     0       0       0  \n"
          ]
        }
      ]
    },
    {
      "cell_type": "code",
      "source": [
        "#Show the missing values\n",
        "print(\"Missing values in dataset: \")\n",
        "print(df.isnull().sum())\n",
        "\n",
        "# Remove duplicates and handle missing values\n",
        "df_cleaned = df.drop_duplicates()\n",
        "\n",
        "#Print table again after removing duplicates\n",
        "print(\"After removing duplicates:\")\n",
        "print(df_cleaned.head())\n",
        "\n",
        "#Converting age from days to years\n",
        "df_cleaned['age_years'] = df['age'] / 365\n",
        "\n"
      ],
      "metadata": {
        "colab": {
          "base_uri": "https://localhost:8080/"
        },
        "collapsed": true,
        "id": "wnXqlR0zjgqr",
        "outputId": "bcbaa6eb-1b09-4ff0-9e2c-f0b6082ef261"
      },
      "execution_count": 11,
      "outputs": [
        {
          "output_type": "stream",
          "name": "stdout",
          "text": [
            "Missing values in dataset: \n",
            "id             0\n",
            "age            0\n",
            "gender         0\n",
            "height         0\n",
            "weight         0\n",
            "ap_hi          0\n",
            "ap_lo          0\n",
            "cholesterol    0\n",
            "gluc           0\n",
            "smoke          0\n",
            "alco           0\n",
            "active         0\n",
            "cardio         0\n",
            "dtype: int64\n",
            "After removing duplicates:\n",
            "   id    age  gender  height  weight  ap_hi  ap_lo  cholesterol  gluc  smoke  \\\n",
            "0   0  18393       2     168    62.0    110     80            1     1      0   \n",
            "1   1  20228       1     156    85.0    140     90            3     1      0   \n",
            "2   2  18857       1     165    64.0    130     70            3     1      0   \n",
            "3   3  17623       2     169    82.0    150    100            1     1      0   \n",
            "4   4  17474       1     156    56.0    100     60            1     1      0   \n",
            "\n",
            "   alco  active  cardio  \n",
            "0     0       1       0  \n",
            "1     0       1       1  \n",
            "2     0       0       1  \n",
            "3     0       1       1  \n",
            "4     0       0       0  \n"
          ]
        }
      ]
    },
    {
      "cell_type": "code",
      "source": [
        "#Grouping into category groups\n",
        "\n",
        "#Define Age into bins and labels\n",
        "age_bins = [0, 10, 20, 30, 40, 50, 60, 70, 80, 90, 100]\n",
        "age_labels = ['0-9', '10-19','20-29', '30-39', '40-49', '50-59', '60-69', '70-79', '80-89', '90-100']\n",
        "#Create age columns\n",
        "df_cleaned['age_group'] = pd.cut(df_cleaned['age_years'], bins=age_bins, labels=age_labels, right=False)\n",
        "\n",
        "\n",
        "#Transform Categorial Data columns into understandable format\n",
        "\n",
        "#Transform Cholesterol levels into readable categories\n",
        "df_cleaned['cholesterol'] = df_cleaned['cholesterol'].map({1: 'Normal', 2: 'Above Normal', 3: 'Well Above Normal'})\n",
        "\n",
        "#Transform Glucose levels into readable categories\n",
        "df_cleaned['glucose'] = df_cleaned['gluc'].map({1: 'Normal', 2: 'Above Normal', 3: 'Well Above Normal'})\n",
        "\n",
        "#Transform Gender codes into understandable format (1 = female, 2 = male)\n",
        "df_cleaned['gender'] = df_cleaned['gender'].map({1: 'Female', 2: 'Male'})\n",
        "\n",
        "#Transform Smoker codes into understandable format (0 = non-smoker, 1 = smoker)\n",
        "df_cleaned['smoking_status'] = df_cleaned['smoke'].map({0: 'Non-smoker', 1: 'Smoker'})\n",
        "\n",
        "#Transform Drinker codes into understandable format (0 = non-drinker, 1 = drinker)\n",
        "df_cleaned['alcohol_consumption'] = df_cleaned['alco'].map({0: 'Non-drinker', 1: 'Drinker'})\n",
        "\n",
        "#Transform Active codes into understandable format (0 = inactive, 1 = active)\n",
        "df_cleaned['physical_activity'] = df_cleaned['active'].map({0: 'Inactive', 1: 'Active'})\n",
        "\n",
        "#Transform Cardio Disease codes into understandable format (0 = no disease, 1 = disease)\n",
        "df_cleaned['cardio_disease_presence'] = df_cleaned['cardio'].map({0: 'No Disease', 1: 'Disease'})\n",
        "\n",
        "\n",
        "#Display the cleaned data\n",
        "print(df_cleaned.head())\n",
        "\n",
        "\n",
        "\n"
      ],
      "metadata": {
        "id": "x0YwW5k4kHv4",
        "colab": {
          "base_uri": "https://localhost:8080/"
        },
        "collapsed": true,
        "outputId": "18947005-06bf-4183-c25f-1465ece6d73f"
      },
      "execution_count": 12,
      "outputs": [
        {
          "output_type": "stream",
          "name": "stdout",
          "text": [
            "   id    age  gender  height  weight  ap_hi  ap_lo        cholesterol  gluc  \\\n",
            "0   0  18393    Male     168    62.0    110     80             Normal     1   \n",
            "1   1  20228  Female     156    85.0    140     90  Well Above Normal     1   \n",
            "2   2  18857  Female     165    64.0    130     70  Well Above Normal     1   \n",
            "3   3  17623    Male     169    82.0    150    100             Normal     1   \n",
            "4   4  17474  Female     156    56.0    100     60             Normal     1   \n",
            "\n",
            "   smoke  alco  active  cardio  age_years age_group glucose smoking_status  \\\n",
            "0      0     0       1       0  50.391781     50-59  Normal     Non-smoker   \n",
            "1      0     0       1       1  55.419178     50-59  Normal     Non-smoker   \n",
            "2      0     0       0       1  51.663014     50-59  Normal     Non-smoker   \n",
            "3      0     0       1       1  48.282192     40-49  Normal     Non-smoker   \n",
            "4      0     0       0       0  47.873973     40-49  Normal     Non-smoker   \n",
            "\n",
            "  alcohol_consumption physical_activity cardio_disease_presence  \n",
            "0         Non-drinker            Active              No Disease  \n",
            "1         Non-drinker            Active                 Disease  \n",
            "2         Non-drinker          Inactive                 Disease  \n",
            "3         Non-drinker            Active                 Disease  \n",
            "4         Non-drinker          Inactive              No Disease  \n"
          ]
        }
      ]
    },
    {
      "cell_type": "code",
      "source": [
        "print(df.head())\n",
        "print(df.dtypes)\n"
      ],
      "metadata": {
        "collapsed": true,
        "colab": {
          "base_uri": "https://localhost:8080/"
        },
        "id": "o1w8EnOh8X8D",
        "outputId": "0617814f-4176-4ba5-a25f-007c3c518ac1"
      },
      "execution_count": 13,
      "outputs": [
        {
          "output_type": "stream",
          "name": "stdout",
          "text": [
            "   id    age  gender  height  weight  ap_hi  ap_lo  cholesterol  gluc  smoke  \\\n",
            "0   0  18393       2     168    62.0    110     80            1     1      0   \n",
            "1   1  20228       1     156    85.0    140     90            3     1      0   \n",
            "2   2  18857       1     165    64.0    130     70            3     1      0   \n",
            "3   3  17623       2     169    82.0    150    100            1     1      0   \n",
            "4   4  17474       1     156    56.0    100     60            1     1      0   \n",
            "\n",
            "   alco  active  cardio  \n",
            "0     0       1       0  \n",
            "1     0       1       1  \n",
            "2     0       0       1  \n",
            "3     0       1       1  \n",
            "4     0       0       0  \n",
            "id               int64\n",
            "age              int64\n",
            "gender           int64\n",
            "height           int64\n",
            "weight         float64\n",
            "ap_hi            int64\n",
            "ap_lo            int64\n",
            "cholesterol      int64\n",
            "gluc             int64\n",
            "smoke            int64\n",
            "alco             int64\n",
            "active           int64\n",
            "cardio           int64\n",
            "dtype: object\n"
          ]
        }
      ]
    },
    {
      "cell_type": "markdown",
      "source": [
        "# Data Functions & Graph Visualisations"
      ],
      "metadata": {
        "id": "KBiUbAQ3pjqW"
      }
    },
    {
      "cell_type": "code",
      "source": [
        "# Function to create visualizations\n",
        "def create_visualisations(age_filter, gender_filter, cholesterol_filter, glucose_filter):\n",
        "\n",
        "    #Filter Dataframe based on widget inputs\n",
        "    filtered_df = df_cleaned[\n",
        "        (df_cleaned['age_group'] == age_filter) &\n",
        "        (df_cleaned['gender'] == gender_filter) &\n",
        "        (df_cleaned['cholesterol'] == cholesterol_filter) &\n",
        "        (df_cleaned['glucose'] == glucose_filter)\n",
        "    ]\n",
        "\n",
        "\n",
        "# Plot 1: Age Group vs Cardiovascular Disease\n",
        "    plt.figure(figsize=(10, 6))\n",
        "    # Ensure the input DataFrame has 'age_group' and 'cardio_disease_presence' columns.\n",
        "    # If not, the try-except block will print a message and skip plotting\n",
        "    try:\n",
        "        age_disease_counts = df.groupby(['age_group', 'cardio_disease_presence']).size().unstack()\n",
        "        age_disease_counts.plot(kind='bar', stacked=True, color=['skyblue', 'salmon'])\n",
        "    except KeyError as e:\n",
        "        print(f\"Error: Missing column(s) for visualization: {e}\")\n",
        "        return  # Exit the function early if necessary columns are missing\n",
        "\n",
        "    #Plot 1 - Graph design\n",
        "    plt.title('Age Group vs Cardiovascular Disease')\n",
        "    plt.xlabel('Age Group')\n",
        "    plt.ylabel('Count')\n",
        "    plt.xticks(rotation=45)\n",
        "    plt.legend(title='Cardiovascular Disease Presence')\n",
        "    plt.show()\n",
        "\n",
        "\n",
        " # Plot 2: Gender vs Smoking Status\n",
        "    plt.figure(figsize=(8, 5))\n",
        "    gender_smoke_counts = df.groupby(['gender', 'smoking_status']).size().unstack()\n",
        "    gender_smoke_counts.plot(kind='bar', stacked=True, color=['lightgreen', 'gray'])\n",
        "    plt.title('Gender vs Smoking Status')\n",
        "    plt.xlabel('Gender')\n",
        "    plt.ylabel('Count')\n",
        "    plt.xticks(rotation=0)\n",
        "    plt.legend(title='Smoking Status')\n",
        "    plt.show()\n",
        "\n",
        "# Plot 3: Cholesterol vs Physical Activity by Gender\n",
        "    plt.figure(figsize=(10, 6))\n",
        "    cholesterol_activity_counts = df.groupby(['cholesterol', 'physical_activity', 'gender']).size().unstack()\n",
        "    cholesterol_activity_counts.plot(kind='bar', stacked=True)\n",
        "    plt.title('Cholesterol vs Physical Activity by Gender')\n",
        "    plt.xlabel('Cholesterol Level')\n",
        "    plt.ylabel('Count')\n",
        "    plt.xticks(rotation=45)\n",
        "    plt.legend(title='Gender')\n",
        "    plt.show()\n",
        "\n",
        "\n",
        "# Plot 4: Correlation Heatmap using Matplotlib\n",
        "    plt.figure(figsize=(12, 8))\n",
        "    numeric_df = df.select_dtypes(include=np.number)  #GEN AI SUGGESTION\n",
        "    correlation_matrix = numeric_df.corr()\n",
        "    plt.imshow(correlation_matrix, cmap='viridis', interpolation='none', aspect='auto')\n",
        "    plt.colorbar()\n",
        "    plt.xticks(range(len(correlation_matrix)), correlation_matrix.columns, rotation=90)\n",
        "    plt.yticks(range(len(correlation_matrix)), correlation_matrix.columns)\n",
        "    plt.title('Correlation Heatmap')\n",
        "    plt.show()\n",
        "\n",
        "\n",
        "# Create Widgets\n",
        "widgets.interact(create_visualisations, df=widgets.fixed(df_cleaned))\n",
        "\n",
        "\n"
      ],
      "metadata": {
        "id": "KcVLXvFevamZ",
        "colab": {
          "base_uri": "https://localhost:8080/",
          "height": 418,
          "referenced_widgets": [
            "ef786170c23444b0984ee2eb9fd80514",
            "7c99cd06a5d0448fb45566384a89bd4c",
            "d0d03cb426ae4116b97f781cfee517d0",
            "bbc0046de7054c3db5b547ca9d914e99"
          ]
        },
        "outputId": "701cad65-af32-4e79-dde6-d2ced0187d2e"
      },
      "execution_count": 18,
      "outputs": [
        {
          "output_type": "display_data",
          "data": {
            "text/plain": [
              "interactive(children=(Output(),), _dom_classes=('widget-interact',))"
            ],
            "application/vnd.jupyter.widget-view+json": {
              "version_major": 2,
              "version_minor": 0,
              "model_id": "ef786170c23444b0984ee2eb9fd80514"
            }
          },
          "metadata": {}
        },
        {
          "output_type": "execute_result",
          "data": {
            "text/plain": [
              "<function __main__.create_visualisations(df)>"
            ],
            "text/html": [
              "<div style=\"max-width:800px; border: 1px solid var(--colab-border-color);\"><style>\n",
              "      pre.function-repr-contents {\n",
              "        overflow-x: auto;\n",
              "        padding: 8px 12px;\n",
              "        max-height: 500px;\n",
              "      }\n",
              "\n",
              "      pre.function-repr-contents.function-repr-contents-collapsed {\n",
              "        cursor: pointer;\n",
              "        max-height: 100px;\n",
              "      }\n",
              "    </style>\n",
              "    <pre style=\"white-space: initial; background:\n",
              "         var(--colab-secondary-surface-color); padding: 8px 12px;\n",
              "         border-bottom: 1px solid var(--colab-border-color);\"><b>create_visualisations</b><br/>def create_visualisations(df)</pre><pre class=\"function-repr-contents function-repr-contents-collapsed\" style=\"\"><a class=\"filepath\" style=\"display:none\" href=\"#\">/content/&lt;ipython-input-18-e31b16fd86fd&gt;</a>&lt;no docstring&gt;</pre></div>"
            ]
          },
          "metadata": {},
          "execution_count": 18
        }
      ]
    },
    {
      "cell_type": "markdown",
      "source": [
        "# Adding Widgets"
      ],
      "metadata": {
        "id": "Nx6aZXGpB60n"
      }
    },
    {
      "cell_type": "markdown",
      "source": [
        "*Note: 0 blue & 1 orange = should be smoker/non-smoker\n",
        "Risk in percentage:*\n",
        "(Teacher's feedback)\n"
      ],
      "metadata": {
        "id": "X420KMWdk3Xo"
      }
    },
    {
      "cell_type": "markdown",
      "source": [
        "# Shanto's data combinations functions\n",
        "\n",
        "*   Used Gen AI prompt & response to fix and combine\n",
        "\n"
      ],
      "metadata": {
        "id": "b0vclmUTjZAb"
      }
    },
    {
      "cell_type": "code",
      "source": [
        "#Create combination 1 (demographic: female, and lifestyle: smoker)\n",
        "demographic_lifestyle_combination = df_cleaned[(df_cleaned['gender'] == 1) & (df_cleaned['smoke'] == 1)]\n",
        "print(demographic_lifestyle_combination.head())\n",
        "\n",
        "#Create combination 2 (demographic: female, and lifestyle: smoker)\n",
        "age_cholesterol_combination = df_cleaned[(df_cleaned['age_years'] > 50) & (df_cleaned['cholesterol'] != 'Normal')]\n",
        "print(age_cholesterol_combination.head())\n",
        "\n",
        "age_bp_activity = df_cleaned[(df_cleaned['age_years'] > 40) & (df_cleaned['ap_hi'] > 120) & (df_cleaned['active'] == 1)]\n",
        "print(age_bp_activity.head())"
      ],
      "metadata": {
        "collapsed": true,
        "colab": {
          "base_uri": "https://localhost:8080/"
        },
        "id": "5yD1BGdjiOMj",
        "outputId": "87f099b0-bd56-46d4-8f5b-40ab11d80951"
      },
      "execution_count": 15,
      "outputs": [
        {
          "output_type": "stream",
          "name": "stdout",
          "text": [
            "Empty DataFrame\n",
            "Columns: [id, age, gender, height, weight, ap_hi, ap_lo, cholesterol, gluc, smoke, alco, active, cardio, age_years, age_group, glucose, smoking_status, alcohol_consumption, physical_activity, cardio_disease_presence]\n",
            "Index: []\n",
            "   id    age  gender  height  weight  ap_hi  ap_lo        cholesterol  gluc  \\\n",
            "1   1  20228  Female     156    85.0    140     90  Well Above Normal     1   \n",
            "2   2  18857  Female     165    64.0    130     70  Well Above Normal     1   \n",
            "5   8  21914  Female     151    67.0    120     80       Above Normal     2   \n",
            "6   9  22113  Female     157    93.0    130     80  Well Above Normal     1   \n",
            "7  12  22584    Male     178    95.0    130     90  Well Above Normal     3   \n",
            "\n",
            "   smoke  alco  active  cardio  age_years age_group            glucose  \\\n",
            "1      0     0       1       1  55.419178     50-59             Normal   \n",
            "2      0     0       0       1  51.663014     50-59             Normal   \n",
            "5      0     0       0       0  60.038356     60-69       Above Normal   \n",
            "6      0     0       1       0  60.583562     60-69             Normal   \n",
            "7      0     0       1       1  61.873973     60-69  Well Above Normal   \n",
            "\n",
            "  smoking_status alcohol_consumption physical_activity cardio_disease_presence  \n",
            "1     Non-smoker         Non-drinker            Active                 Disease  \n",
            "2     Non-smoker         Non-drinker          Inactive                 Disease  \n",
            "5     Non-smoker         Non-drinker          Inactive              No Disease  \n",
            "6     Non-smoker         Non-drinker            Active              No Disease  \n",
            "7     Non-smoker         Non-drinker            Active                 Disease  \n",
            "    id    age  gender  height  weight  ap_hi  ap_lo        cholesterol  gluc  \\\n",
            "1    1  20228  Female     156    85.0    140     90  Well Above Normal     1   \n",
            "3    3  17623    Male     169    82.0    150    100             Normal     1   \n",
            "6    9  22113  Female     157    93.0    130     80  Well Above Normal     1   \n",
            "7   12  22584    Male     178    95.0    130     90  Well Above Normal     3   \n",
            "21  31  21413  Female     157    69.0    130     80             Normal     1   \n",
            "\n",
            "    smoke  alco  active  cardio  age_years age_group            glucose  \\\n",
            "1       0     0       1       1  55.419178     50-59             Normal   \n",
            "3       0     0       1       1  48.282192     40-49             Normal   \n",
            "6       0     0       1       0  60.583562     60-69             Normal   \n",
            "7       0     0       1       1  61.873973     60-69  Well Above Normal   \n",
            "21      0     0       1       0  58.665753     50-59             Normal   \n",
            "\n",
            "   smoking_status alcohol_consumption physical_activity  \\\n",
            "1      Non-smoker         Non-drinker            Active   \n",
            "3      Non-smoker         Non-drinker            Active   \n",
            "6      Non-smoker         Non-drinker            Active   \n",
            "7      Non-smoker         Non-drinker            Active   \n",
            "21     Non-smoker         Non-drinker            Active   \n",
            "\n",
            "   cardio_disease_presence  \n",
            "1                  Disease  \n",
            "3                  Disease  \n",
            "6               No Disease  \n",
            "7                  Disease  \n",
            "21              No Disease  \n"
          ]
        }
      ]
    },
    {
      "cell_type": "code",
      "source": [],
      "metadata": {
        "id": "8qhBWAOTuZYS"
      },
      "execution_count": null,
      "outputs": []
    }
  ]
}