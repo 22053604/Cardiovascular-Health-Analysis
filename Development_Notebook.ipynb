{
  "nbformat": 4,
  "nbformat_minor": 0,
  "metadata": {
    "colab": {
      "provenance": [],
      "include_colab_link": true
    },
    "kernelspec": {
      "name": "python3",
      "display_name": "Python 3"
    },
    "language_info": {
      "name": "python"
    }
  },
  "cells": [
    {
      "cell_type": "markdown",
      "metadata": {
        "id": "view-in-github",
        "colab_type": "text"
      },
      "source": [
        "<a href=\"https://colab.research.google.com/github/22053604/Cardiovascular-Health-Analysis/blob/main/Development_Notebook.ipynb\" target=\"_parent\"><img src=\"https://colab.research.google.com/assets/colab-badge.svg\" alt=\"Open In Colab\"/></a>"
      ]
    },
    {
      "cell_type": "markdown",
      "source": [
        "# **Version Control**"
      ],
      "metadata": {
        "id": "m4lRi9BXhlnV"
      }
    },
    {
      "cell_type": "markdown",
      "source": [
        "# Pseudocode\n",
        "\n",
        "...."
      ],
      "metadata": {
        "id": "RVRPHSMOXjgG"
      }
    },
    {
      "cell_type": "code",
      "execution_count": 103,
      "metadata": {
        "id": "gWNXzOv8XoU5"
      },
      "outputs": [],
      "source": [
        "#import necessary libraries\n",
        "import sqlite3\n",
        "import pandas as pd\n",
        "import numpy as np\n",
        "import matplotlib.pyplot as plt\n",
        "import ipywidgets as widgets"
      ]
    },
    {
      "cell_type": "code",
      "source": [
        "#Established a connection to the SQLite database\n",
        "db_path = '/content/cardio_health.db'\n",
        "conn = sqlite3.connect('cardiohealth.db')\n",
        "cursor = conn.cursor()\n",
        "\n",
        "#Function for error if problem connecting to SQLite database\n",
        "try:\n",
        "    conn = sqlite3.connect('cardiohealth.db')\n",
        "except sqlite3.Error as e:\n",
        "    print(f\"Error connecting to database: {e}\")\n",
        "\n",
        "#Retrieve and display table names\n",
        "cursor.execute(\"SELECT name FROM sqlite_master WHERE type='table';\")\n",
        "tables = cursor.fetchall()\n",
        "print(\"Tables in the database:\", tables)"
      ],
      "metadata": {
        "id": "FY1aWyRyhr0R",
        "colab": {
          "base_uri": "https://localhost:8080/"
        },
        "outputId": "9862c8b3-ed8a-44fe-a0f4-9f31873050b3"
      },
      "execution_count": 104,
      "outputs": [
        {
          "output_type": "stream",
          "name": "stdout",
          "text": [
            "Tables in the database: [('medical_examination',)]\n"
          ]
        }
      ]
    },
    {
      "cell_type": "code",
      "source": [
        "#Export all tables to CSV files &  Panadas dataframe\n",
        "for table_name in tables:\n",
        "    df = pd.read_sql(f\"SELECT * FROM {table_name[0]}\", conn)\n",
        "    csv_file_name = f\"{table_name[0]}.csv\"\n",
        "    df.to_csv(csv_file_name, index=False)\n",
        "    print(f\"Exported {table_name[0]} to {csv_file_name}\")\n",
        "\n",
        "#Load data from medical_examnination table\n",
        "query = \"SELECT * FROM medical_examination\"\n",
        "df = pd.read_sql(query, conn)\n",
        "\n",
        "#Display tables\n",
        "df = pd.read_csv('/content/medical_examination.csv')\n",
        "print(df.head())"
      ],
      "metadata": {
        "id": "AfOwUjqkiep0",
        "colab": {
          "base_uri": "https://localhost:8080/"
        },
        "outputId": "bc81f226-9b07-4376-d388-67a8fc8d5a42",
        "collapsed": true
      },
      "execution_count": 105,
      "outputs": [
        {
          "output_type": "stream",
          "name": "stdout",
          "text": [
            "Exported medical_examination to medical_examination.csv\n",
            "   id    age  gender  height  weight  ap_hi  ap_lo  cholesterol  gluc  smoke  \\\n",
            "0   0  18393       2     168    62.0    110     80            1     1      0   \n",
            "1   1  20228       1     156    85.0    140     90            3     1      0   \n",
            "2   2  18857       1     165    64.0    130     70            3     1      0   \n",
            "3   3  17623       2     169    82.0    150    100            1     1      0   \n",
            "4   4  17474       1     156    56.0    100     60            1     1      0   \n",
            "\n",
            "   alco  active  cardio  \n",
            "0     0       1       0  \n",
            "1     0       1       1  \n",
            "2     0       0       1  \n",
            "3     0       1       1  \n",
            "4     0       0       0  \n"
          ]
        }
      ]
    },
    {
      "cell_type": "code",
      "source": [
        "#Show the missing values\n",
        "print(\"Missing values in dataset: \")\n",
        "print(df.isnull().sum())\n",
        "\n",
        "# Remove duplicates and handle missing values\n",
        "df_cleaned = df.drop_duplicates()\n",
        "\n",
        "#Print table again after removing duplicates\n",
        "print(\"After removing duplicates:\")\n",
        "print(df_cleaned.head())\n",
        "\n",
        "#Converting age from days to years\n",
        "df_cleaned['age_years'] = df['age'] / 365\n",
        "\n"
      ],
      "metadata": {
        "colab": {
          "base_uri": "https://localhost:8080/"
        },
        "collapsed": true,
        "id": "wnXqlR0zjgqr",
        "outputId": "b4fdb711-21fa-40d2-d569-4b244a7dec8c"
      },
      "execution_count": 108,
      "outputs": [
        {
          "output_type": "stream",
          "name": "stdout",
          "text": [
            "Missing values in dataset: \n",
            "id             0\n",
            "age            0\n",
            "gender         0\n",
            "height         0\n",
            "weight         0\n",
            "ap_hi          0\n",
            "ap_lo          0\n",
            "cholesterol    0\n",
            "gluc           0\n",
            "smoke          0\n",
            "alco           0\n",
            "active         0\n",
            "cardio         0\n",
            "age_years      0\n",
            "dtype: int64\n",
            "After removing duplicates:\n",
            "   id    age  gender  height  weight  ap_hi  ap_lo  cholesterol  gluc  smoke  \\\n",
            "0   0  18393       2     168    62.0    110     80            1     1      0   \n",
            "1   1  20228       1     156    85.0    140     90            3     1      0   \n",
            "2   2  18857       1     165    64.0    130     70            3     1      0   \n",
            "3   3  17623       2     169    82.0    150    100            1     1      0   \n",
            "4   4  17474       1     156    56.0    100     60            1     1      0   \n",
            "\n",
            "   alco  active  cardio  age_years  \n",
            "0     0       1       0  50.391781  \n",
            "1     0       1       1  55.419178  \n",
            "2     0       0       1  51.663014  \n",
            "3     0       1       1  48.282192  \n",
            "4     0       0       0  47.873973  \n"
          ]
        }
      ]
    },
    {
      "cell_type": "code",
      "source": [
        "#Grouping into category groups\n",
        "\n",
        "#Define Age into bins and labels\n",
        "age_bins = [0, 10, 20, 30, 40, 50, 60, 70, 80, 90, 100]\n",
        "age_labels = ['0-9', '10-19','20-29', '30-39', '40-49', '50-59', '60-69', '70-79', '80-89', '90-100']\n",
        "#Create age columns\n",
        "df_cleaned['age_group'] = pd.cut(df_cleaned['age_years'], bins=age_bins, labels=age_labels, right=False)\n",
        "\n",
        "\n",
        "#Transform Categorial Data columns into understandable format\n",
        "\n",
        "#Transform Cholesterol levels into readable categories\n",
        "df_cleaned['cholesterol'] = df_cleaned['cholesterol'].map({1: 'Normal', 2: 'Above Normal', 3: 'Well Above Normal'})\n",
        "\n",
        "#Transform Glucose levels into readable categories\n",
        "df_cleaned['glucose'] = df_cleaned['gluc'].map({1: 'Normal', 2: 'Above Normal', 3: 'Well Above Normal'})\n",
        "\n",
        "#Transform Gender codes into understandable format (1 = female, 2 = male)\n",
        "df_cleaned['gender'] = df_cleaned['gender'].map({1: 'Female', 2: 'Male'})\n",
        "\n",
        "#Transform Smoker codes into understandable format (0 = non-smoker, 1 = smoker)\n",
        "df_cleaned['smoking_status'] = df_cleaned['smoke'].map({0: 'Non-smoker', 1: 'Smoker'})\n",
        "\n",
        "#Transform Drinker codes into understandable format (0 = non-drinker, 1 = drinker)\n",
        "df_cleaned['alcohol_consumption'] = df_cleaned['alco'].map({0: 'Non-drinker', 1: 'Drinker'})\n",
        "\n",
        "#Transform Active codes into understandable format (0 = inactive, 1 = active)\n",
        "df_cleaned['physical_activity'] = df_cleaned['active'].map({0: 'Inactive', 1: 'Active'})\n",
        "\n",
        "#Transform Cardio Disease codes into understandable format (0 = no disease, 1 = disease)\n",
        "df_cleaned['cardio_disease_presence'] = df_cleaned['cardio'].map({0: 'No Disease', 1: 'Disease'})\n",
        "\n",
        "\n",
        "#Display the cleaned data\n",
        "print(df_cleaned.head())\n",
        "\n",
        "\n",
        "\n"
      ],
      "metadata": {
        "id": "x0YwW5k4kHv4",
        "colab": {
          "base_uri": "https://localhost:8080/"
        },
        "collapsed": true,
        "outputId": "5cfc9510-cb42-4d07-bfc3-629897eaa1e6"
      },
      "execution_count": 109,
      "outputs": [
        {
          "output_type": "stream",
          "name": "stdout",
          "text": [
            "   id    age  gender  height  weight  ap_hi  ap_lo        cholesterol  gluc  \\\n",
            "0   0  18393    Male     168    62.0    110     80             Normal     1   \n",
            "1   1  20228  Female     156    85.0    140     90  Well Above Normal     1   \n",
            "2   2  18857  Female     165    64.0    130     70  Well Above Normal     1   \n",
            "3   3  17623    Male     169    82.0    150    100             Normal     1   \n",
            "4   4  17474  Female     156    56.0    100     60             Normal     1   \n",
            "\n",
            "   smoke  alco  active  cardio  age_years age_group glucose smoking_status  \\\n",
            "0      0     0       1       0  50.391781     50-59  Normal     Non-smoker   \n",
            "1      0     0       1       1  55.419178     50-59  Normal     Non-smoker   \n",
            "2      0     0       0       1  51.663014     50-59  Normal     Non-smoker   \n",
            "3      0     0       1       1  48.282192     40-49  Normal     Non-smoker   \n",
            "4      0     0       0       0  47.873973     40-49  Normal     Non-smoker   \n",
            "\n",
            "  alcohol_consumption physical_activity cardio_disease_presence  \n",
            "0         Non-drinker            Active              No Disease  \n",
            "1         Non-drinker            Active                 Disease  \n",
            "2         Non-drinker          Inactive                 Disease  \n",
            "3         Non-drinker            Active                 Disease  \n",
            "4         Non-drinker          Inactive              No Disease  \n"
          ]
        }
      ]
    },
    {
      "cell_type": "markdown",
      "source": [
        "# Data Functions & Graph Visualisations"
      ],
      "metadata": {
        "id": "KBiUbAQ3pjqW"
      }
    },
    {
      "cell_type": "code",
      "source": [
        "# Function to create visualizations\n",
        "def create_visualizations(df):\n",
        "    # Age Group vs Cardiovascular Disease\n",
        "    plt.figure(figsize=(10, 6))\n",
        "\n",
        "    # Ensure the input DataFrame has 'age_group' and 'cardio_disease_presence' columns.\n",
        "    # If not, the try-except block will print a message and skip plotting\n",
        "    try:\n",
        "        age_disease_counts = df.groupby(['age_group', 'cardio_disease_presence']).size().unstack()\n",
        "        age_disease_counts.plot(kind='bar', stacked=True, color=['skyblue', 'salmon'])\n",
        "    except KeyError as e:\n",
        "        print(f\"Error: Missing column(s) for visualization: {e}\")\n",
        "        return  # Exit the function early if necessary columns are missing\n",
        "\n",
        "\n",
        "    plt.title('Age Group vs Cardiovascular Disease')\n",
        "    plt.xlabel('Age Group')\n",
        "    plt.ylabel('Count')\n",
        "    plt.xticks(rotation=45)\n",
        "    plt.legend(title='Cardiovascular Disease Presence')\n",
        "    plt.show()\n",
        "\n",
        "\n",
        "\n",
        "create_visualisations(df_cleaned)\n"
      ],
      "metadata": {
        "id": "KcVLXvFevamZ",
        "colab": {
          "base_uri": "https://localhost:8080/",
          "height": 595
        },
        "outputId": "009024e3-1f71-4a3f-b4ea-f0cd9154eb1c"
      },
      "execution_count": 128,
      "outputs": [
        {
          "output_type": "display_data",
          "data": {
            "text/plain": [
              "<Figure size 1000x600 with 1 Axes>"
            ],
            "image/png": "[encoded data removed]"
          },
          "metadata": {}
        }
      ]
    },
    {
      "cell_type": "markdown",
      "source": [
        "Note: 0 blue & 1 orange = should be smoker/non-smoker\n",
        "Risk in percentage\n"
      ],
      "metadata": {
        "id": "X420KMWdk3Xo"
      }
    },
    {
      "cell_type": "markdown",
      "source": [
        "# Shanto's data combinations functions\n",
        "\n",
        "*   Used Gen AI prompt & response to fix and combine\n",
        "\n"
      ],
      "metadata": {
        "id": "b0vclmUTjZAb"
      }
    },
    {
      "cell_type": "code",
      "source": [
        "#Create combination 1 (demographic: female, and lifestyle: smoker)\n",
        "demographic_lifestyle_combination = df_cleaned[(df_cleaned['gender'] == 1) & (df_cleaned['smoke'] == 1)]\n",
        "print(demographic_lifestyle_combination.head())\n",
        "\n",
        "#Create combination 2 (demographic: female, and lifestyle: smoker)\n",
        "age_cholesterol_combination = df_cleaned[(df_cleaned['age_years'] > 50) & (df_cleaned['cholesterol'] != 'Normal')]\n",
        "print(age_cholesterol_combination.head())\n",
        "\n",
        "age_bp_activity = df_cleaned[(df_cleaned['age_years'] > 40) & (df_cleaned['ap_hi'] > 120) & (df_cleaned['active'] == 1)]\n",
        "print(age_bp_activity.head())"
      ],
      "metadata": {
        "collapsed": true,
        "colab": {
          "base_uri": "https://localhost:8080/"
        },
        "id": "5yD1BGdjiOMj",
        "outputId": "6a8d6b25-3f0d-4192-df14-bd2aa57c3e85"
      },
      "execution_count": null,
      "outputs": [
        {
          "output_type": "stream",
          "name": "stdout",
          "text": [
            "Empty DataFrame\n",
            "Columns: [id, age, gender, height, weight, ap_hi, ap_lo, cholesterol, gluc, smoke, alco, active, cardio, age_years, age_group]\n",
            "Index: []\n",
            "   id    age  gender  height  weight  ap_hi  ap_lo        cholesterol  gluc  \\\n",
            "1   1  20228  female     156    85.0    140     90  Well Above Normal     1   \n",
            "2   2  18857  female     165    64.0    130     70  Well Above Normal     1   \n",
            "5   8  21914  female     151    67.0    120     80       Above Normal     2   \n",
            "6   9  22113  female     157    93.0    130     80  Well Above Normal     1   \n",
            "7  12  22584    male     178    95.0    130     90  Well Above Normal     3   \n",
            "\n",
            "   smoke  alco  active  cardio  age_years age_group  \n",
            "1      0     0       1       1  55.419178     50-59  \n",
            "2      0     0       0       1  51.663014     50-59  \n",
            "5      0     0       0       0  60.038356     60-69  \n",
            "6      0     0       1       0  60.583562     60-69  \n",
            "7      0     0       1       1  61.873973     60-69  \n",
            "    id    age  gender  height  weight  ap_hi  ap_lo        cholesterol  gluc  \\\n",
            "1    1  20228  female     156    85.0    140     90  Well Above Normal     1   \n",
            "3    3  17623    male     169    82.0    150    100             Normal     1   \n",
            "6    9  22113  female     157    93.0    130     80  Well Above Normal     1   \n",
            "7   12  22584    male     178    95.0    130     90  Well Above Normal     3   \n",
            "21  31  21413  female     157    69.0    130     80             Normal     1   \n",
            "\n",
            "    smoke  alco  active  cardio  age_years age_group  \n",
            "1       0     0       1       1  55.419178     50-59  \n",
            "3       0     0       1       1  48.282192     40-49  \n",
            "6       0     0       1       0  60.583562     60-69  \n",
            "7       0     0       1       1  61.873973     60-69  \n",
            "21      0     0       1       0  58.665753     50-59  \n"
          ]
        }
      ]
    },
    {
      "cell_type": "code",
      "source": [],
      "metadata": {
        "id": "8qhBWAOTuZYS"
      },
      "execution_count": null,
      "outputs": []
    }
  ]
}