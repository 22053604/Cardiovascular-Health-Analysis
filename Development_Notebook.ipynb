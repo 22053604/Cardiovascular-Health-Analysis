{
  "nbformat": 4,
  "nbformat_minor": 0,
  "metadata": {
    "colab": {
      "provenance": [],
      "include_colab_link": true
    },
    "kernelspec": {
      "name": "python3",
      "display_name": "Python 3"
    },
    "language_info": {
      "name": "python"
    }
  },
  "cells": [
    {
      "cell_type": "markdown",
      "metadata": {
        "id": "view-in-github",
        "colab_type": "text"
      },
      "source": [
        "<a href=\"https://colab.research.google.com/github/22053604/Cardiovascular-Health-Analysis/blob/main/Development_Notebook.ipynb\" target=\"_parent\"><img src=\"https://colab.research.google.com/assets/colab-badge.svg\" alt=\"Open In Colab\"/></a>"
      ]
    },
    {
      "cell_type": "markdown",
      "source": [
        "# **Version Control**"
      ],
      "metadata": {
        "id": "m4lRi9BXhlnV"
      }
    },
    {
      "cell_type": "code",
      "execution_count": 1,
      "metadata": {
        "id": "gWNXzOv8XoU5"
      },
      "outputs": [],
      "source": [
        "#import necessary libraries\n",
        "import sqlite3\n",
        "import pandas as pd\n",
        "import numpy as np\n",
        "import matplotlib.pyplot as plt\n",
        "import ipywidgets as widgets"
      ]
    },
    {
      "cell_type": "code",
      "source": [
        "#Connect to the SQLite database\n",
        "conn = sqlite3.connect('cardiohealth.db')\n",
        "cursor = conn.cursor()"
      ],
      "metadata": {
        "id": "FY1aWyRyhr0R"
      },
      "execution_count": 6,
      "outputs": []
    },
    {
      "cell_type": "code",
      "source": [
        "#Retrieve and display table names\n",
        "cursor.execute(\"SELECT name FROM sqlite_master WHERE type='table';\")\n",
        "\n",
        "#List all tables\n",
        "print(cursor.fetchall())"
      ],
      "metadata": {
        "colab": {
          "base_uri": "https://localhost:8080/"
        },
        "id": "-ct7Y90hh_79",
        "outputId": "59c896e4-619a-46dd-cb53-d6e090ed8f0e"
      },
      "execution_count": 7,
      "outputs": [
        {
          "output_type": "stream",
          "name": "stdout",
          "text": [
            "[('medical_examination',)]\n"
          ]
        }
      ]
    },
    {
      "cell_type": "code",
      "source": [
        "#Replacing with actual table name\n",
        "query = \"\"\"\n",
        "SELECT age, gender, height, weight, ap_hi, ap_lo, cholesterol, gluc, smoke, alco, active, cardio\n",
        "FROM medical_examination;\n",
        "\"\"\"\n",
        "\n",
        "#Load SQL result into a Panadas dataframe for analysis\n",
        "query = \"SELECT * FROM medical_examination;\"\n",
        "df = pd.read_sql_query(query, conn)"
      ],
      "metadata": {
        "id": "AfOwUjqkiep0"
      },
      "execution_count": 8,
      "outputs": []
    },
    {
      "cell_type": "code",
      "source": [
        "#Clean the data\n",
        "#Show the missing values\n",
        "df.isnull().sum()"
      ],
      "metadata": {
        "id": "wnXqlR0zjgqr"
      },
      "execution_count": null,
      "outputs": []
    },
    {
      "cell_type": "code",
      "source": [
        "#Converting age from days to years\n",
        "df['age_years'] = df['age'] / 365\n"
      ],
      "metadata": {
        "id": "LrJj-fLBj6A8"
      },
      "execution_count": null,
      "outputs": []
    },
    {
      "cell_type": "code",
      "source": [
        "#Grouping age into category groups\n",
        "#Define age into bins and labels\n",
        "age_bins = [0, 10, 20, 30, 40, 50, 60, 70, 80, 90, 100]\n",
        "age_labels = ['0-9', '10-19','20-29', '30-39', '40-49', '50-59', '60-69', '70-79', '80-89', '90-100']\n",
        "\n",
        "#Create age columns\n",
        "df['age_group'] = pd.cut(df['age_years'], bins=age_bins, labels=age_labels, right=False)"
      ],
      "metadata": {
        "id": "x0YwW5k4kHv4"
      },
      "execution_count": null,
      "outputs": []
    },
    {
      "cell_type": "code",
      "source": [
        "#Transform gender codes into understandable format (1 = female, 2 = male)\n",
        "df['gender'] = df['gender'].map({1: 'female', 2: 'male'})\n",
        "\n",
        "#Transform cholesterol levels into readable categories\n",
        "df['cholesterol'] = df['cholesterol'].map({1: 'Normal', 2: 'Above Normal', 3: 'Well Above Normal'})\n"
      ],
      "metadata": {
        "id": "VWJDdX6zkSrG"
      },
      "execution_count": null,
      "outputs": []
    }
  ]
}