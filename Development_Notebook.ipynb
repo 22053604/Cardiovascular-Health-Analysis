{
  "nbformat": 4,
  "nbformat_minor": 0,
  "metadata": {
    "colab": {
      "provenance": [],
      "include_colab_link": true
    },
    "kernelspec": {
      "name": "python3",
      "display_name": "Python 3"
    },
    "language_info": {
      "name": "python"
    }
  },
  "cells": [
    {
      "cell_type": "markdown",
      "metadata": {
        "id": "view-in-github",
        "colab_type": "text"
      },
      "source": [
        "<a href=\"https://colab.research.google.com/github/22053604/Cardiovascular-Health-Analysis/blob/main/Development_Notebook.ipynb\" target=\"_parent\"><img src=\"https://colab.research.google.com/assets/colab-badge.svg\" alt=\"Open In Colab\"/></a>"
      ]
    },
    {
      "cell_type": "markdown",
      "source": [
        "# **Version Control**"
      ],
      "metadata": {
        "id": "m4lRi9BXhlnV"
      }
    },
    {
      "cell_type": "markdown",
      "source": [
        "# Pseudocode\n",
        "\n",
        "...."
      ],
      "metadata": {
        "id": "RVRPHSMOXjgG"
      }
    },
    {
      "cell_type": "code",
      "execution_count": 1,
      "metadata": {
        "id": "gWNXzOv8XoU5"
      },
      "outputs": [],
      "source": [
        "#import necessary libraries\n",
        "import sqlite3\n",
        "import pandas as pd\n",
        "import numpy as np\n",
        "import matplotlib.pyplot as plt\n",
        "import ipywidgets as widgets"
      ]
    },
    {
      "cell_type": "code",
      "source": [
        "#Established a connection to the SQLite database\n",
        "db_path = '/content/cardio_health.db'\n",
        "conn = sqlite3.connect('cardiohealth.db')\n",
        "cursor = conn.cursor()\n",
        "\n",
        "#Retrieve and display table names\n",
        "cursor.execute(\"SELECT name FROM sqlite_master WHERE type='table';\")\n",
        "tables = cursor.fetchall()\n",
        "print(\"Tables in the database:\", tables)"
      ],
      "metadata": {
        "id": "FY1aWyRyhr0R",
        "colab": {
          "base_uri": "https://localhost:8080/"
        },
        "outputId": "95bc98cf-7a76-40ea-c506-8da0dd4aa4d2"
      },
      "execution_count": 15,
      "outputs": [
        {
          "output_type": "stream",
          "name": "stdout",
          "text": [
            "Tables in the database: [('medical_examination',)]\n"
          ]
        }
      ]
    },
    {
      "cell_type": "code",
      "source": [
        "#Export all tables to CSV files &  Panadas dataframe\n",
        "for table_name in tables:\n",
        "    df = pd.read_sql(f\"SELECT * FROM {table_name[0]}\", conn)\n",
        "    csv_file_name = f\"{table_name[0]}.csv\"\n",
        "    df.to_csv(csv_file_name, index=False)\n",
        "    print(f\"Exported {table_name[0]} to {csv_file_name}\")\n",
        "\n",
        "#Load data from medical_examnination table\n",
        "query = \"SELECT * FROM medical_examination\"\n",
        "df = pd.read_sql(query, conn)\n",
        "\n",
        "#Display tables\n",
        "df = pd.read_csv('/content/medical_examination.csv')\n",
        "print(df.head())"
      ],
      "metadata": {
        "id": "AfOwUjqkiep0",
        "colab": {
          "base_uri": "https://localhost:8080/"
        },
        "collapsed": true,
        "outputId": "b7c9fb94-c1fc-4566-c6d9-b683416a471b"
      },
      "execution_count": 36,
      "outputs": [
        {
          "output_type": "stream",
          "name": "stdout",
          "text": [
            "Exported medical_examination to medical_examination.csv\n",
            "   id    age  gender  height  weight  ap_hi  ap_lo  cholesterol  gluc  smoke  \\\n",
            "0   0  18393       2     168    62.0    110     80            1     1      0   \n",
            "1   1  20228       1     156    85.0    140     90            3     1      0   \n",
            "2   2  18857       1     165    64.0    130     70            3     1      0   \n",
            "3   3  17623       2     169    82.0    150    100            1     1      0   \n",
            "4   4  17474       1     156    56.0    100     60            1     1      0   \n",
            "\n",
            "   alco  active  cardio  \n",
            "0     0       1       0  \n",
            "1     0       1       1  \n",
            "2     0       0       1  \n",
            "3     0       1       1  \n",
            "4     0       0       0  \n"
          ]
        }
      ]
    },
    {
      "cell_type": "code",
      "source": [
        "#Show the missing values\n",
        "print(\"Missing values in dataset: \")\n",
        "print(df.isnull().sum())\n",
        "\n",
        "# Remove duplicates and handle missing values\n",
        "df_cleaned = df.drop_duplicates()\n",
        "\n",
        "#Print table again after removing duplicates\n",
        "print(\"After removing duplicates:\")\n",
        "print(df_cleaned.head())\n",
        "\n",
        "#Converting age from days to years\n",
        "df['age_years'] = df['age'] / 365\n",
        "\n"
      ],
      "metadata": {
        "colab": {
          "base_uri": "https://localhost:8080/"
        },
        "collapsed": true,
        "id": "wnXqlR0zjgqr",
        "outputId": "3e7ad606-0aa5-4595-9e1f-d66df67a5d14"
      },
      "execution_count": 48,
      "outputs": [
        {
          "output_type": "stream",
          "name": "stdout",
          "text": [
            "Missing values in dataset: \n",
            "id              0\n",
            "age             0\n",
            "gender         11\n",
            "height          0\n",
            "weight          0\n",
            "ap_hi           0\n",
            "ap_lo           0\n",
            "cholesterol     0\n",
            "gluc            0\n",
            "smoke           0\n",
            "alco            0\n",
            "active          0\n",
            "cardio          0\n",
            "age_years       0\n",
            "age_group       0\n",
            "dtype: int64\n",
            "After removing duplicates:\n",
            "   id    age  gender  height  weight  ap_hi  ap_lo        cholesterol  gluc  \\\n",
            "0   0  18393    male     168    62.0    110     80             Normal     1   \n",
            "1   1  20228  female     156    85.0    140     90  Well Above Normal     1   \n",
            "2   2  18857  female     165    64.0    130     70  Well Above Normal     1   \n",
            "3   3  17623    male     169    82.0    150    100             Normal     1   \n",
            "4   4  17474  female     156    56.0    100     60             Normal     1   \n",
            "\n",
            "   smoke  alco  active  cardio  age_years age_group  \n",
            "0      0     0       1       0  50.391781     50-59  \n",
            "1      0     0       1       1  55.419178     50-59  \n",
            "2      0     0       0       1  51.663014     50-59  \n",
            "3      0     0       1       1  48.282192     40-49  \n",
            "4      0     0       0       0  47.873973     40-49  \n"
          ]
        }
      ]
    },
    {
      "cell_type": "code",
      "source": [
        "#Grouping into category groups\n",
        "\n",
        "#Define Age into bins and labels\n",
        "age_bins = [0, 10, 20, 30, 40, 50, 60, 70, 80, 90, 100]\n",
        "age_labels = ['0-9', '10-19','20-29', '30-39', '40-49', '50-59', '60-69', '70-79', '80-89', '90-100']\n",
        "#Create age columns\n",
        "df['age_group'] = pd.cut(df['age_years'], bins=age_bins, labels=age_labels, right=False)\n",
        "\n",
        "\n",
        "#Change data into understandable format\n",
        "\n",
        "#Transform Gender codes into understandable format (1 = female, 2 = male)\n",
        "df['gender'] = df['gender'].map({1: 'female', 2: 'male'})\n",
        "\n",
        "#Transform Smoker codes into understandable format (0 = non-smoker, 1 = smoker)\n",
        "df['smoking_status'] = df['smoke'].map({0: 'non-smoker', 1: 'smoker'})\n",
        "\n",
        "#Transform Drinker codes into understandable format (0 = non-drinker, 1 = drinker)\n",
        "df['alcohol_consumption'] = df['alco'].map({0: 'non-drinker', 1: 'drinker'})\n",
        "\n",
        "#Transform Cholesterol levels into readable categories\n",
        "df['cholesterol'] = df['cholesterol'].map({1: 'Normal', 2: 'Above Normal', 3: 'Well Above Normal'})"
      ],
      "metadata": {
        "id": "x0YwW5k4kHv4"
      },
      "execution_count": 73,
      "outputs": []
    },
    {
      "cell_type": "markdown",
      "source": [
        "# Data Functions & Graph Visualisations"
      ],
      "metadata": {
        "id": "KBiUbAQ3pjqW"
      }
    },
    {
      "cell_type": "code",
      "source": [
        "# Data analysis functions\n",
        "def analyse_combination(df, factors):\n",
        "    query_str = \" & \".join([f\"{key} {value}\" for key, value in factors.items()])\n",
        "    filtered_data = df.query(query_str)\n",
        "    return filtered_data\n",
        "\n",
        "# Example analysis: Demographic and Lifestyle Factors\n",
        "factors_combination_1 = {'gender': \"== 'female'\", 'smoke': '== 1'}\n",
        "combination_1_result = analyse_combination(df, factors_combination_1)\n",
        "print(\"Female smokers:\")\n",
        "print(combination_1_result.head())"
      ],
      "metadata": {
        "colab": {
          "base_uri": "https://localhost:8080/"
        },
        "collapsed": true,
        "id": "3lZJbWlWe5HR",
        "outputId": "d52f7166-bce4-4cc3-b746-22f4880947a6"
      },
      "execution_count": 71,
      "outputs": [
        {
          "output_type": "stream",
          "name": "stdout",
          "text": [
            "Female smokers:\n",
            "Empty DataFrame\n",
            "Columns: [id, age, gender, height, weight, ap_hi, ap_lo, cholesterol, gluc, smoke, alco, active, cardio, age_years, age_group, smoking_status]\n",
            "Index: []\n"
          ]
        }
      ]
    },
    {
      "cell_type": "markdown",
      "source": [
        "Note: 0 blue & 1 orange = should be smoker/non-smoker\n",
        "Risk in percentage\n"
      ],
      "metadata": {
        "id": "X420KMWdk3Xo"
      }
    },
    {
      "cell_type": "markdown",
      "source": [
        "# Shanto's data combinations functions\n",
        "\n",
        "*   Used Gen AI prompt & response to fix and combine\n",
        "\n"
      ],
      "metadata": {
        "id": "b0vclmUTjZAb"
      }
    },
    {
      "cell_type": "code",
      "source": [
        "#Create combination 1 (demographic: female, and lifestyle: smoker)\n",
        "demographic_lifestyle_combination = df_cleaned[(df_cleaned['gender'] == 1) & (df_cleaned['smoke'] == 1)]\n",
        "print(demographic_lifestyle_combination.head())\n",
        "\n",
        "#Create combination 2 (demographic: female, and lifestyle: smoker)\n",
        "age_cholesterol_combination = df_cleaned[(df_cleaned['age_years'] > 50) & (df_cleaned['cholesterol'] != 'Normal')]\n",
        "print(age_cholesterol_combination.head())\n",
        "\n",
        "age_bp_activity = df_cleaned[(df_cleaned['age_years'] > 40) & (df_cleaned['ap_hi'] > 120) & (df_cleaned['active'] == 1)]\n",
        "print(age_bp_activity.head())"
      ],
      "metadata": {
        "collapsed": true,
        "colab": {
          "base_uri": "https://localhost:8080/"
        },
        "id": "5yD1BGdjiOMj",
        "outputId": "c0bf6a95-293b-4a87-839a-bb39853e9a68"
      },
      "execution_count": 72,
      "outputs": [
        {
          "output_type": "stream",
          "name": "stdout",
          "text": [
            "Empty DataFrame\n",
            "Columns: [id, age, gender, height, weight, ap_hi, ap_lo, cholesterol, gluc, smoke, alco, active, cardio, age_years, age_group]\n",
            "Index: []\n",
            "   id    age  gender  height  weight  ap_hi  ap_lo        cholesterol  gluc  \\\n",
            "1   1  20228  female     156    85.0    140     90  Well Above Normal     1   \n",
            "2   2  18857  female     165    64.0    130     70  Well Above Normal     1   \n",
            "5   8  21914  female     151    67.0    120     80       Above Normal     2   \n",
            "6   9  22113  female     157    93.0    130     80  Well Above Normal     1   \n",
            "7  12  22584    male     178    95.0    130     90  Well Above Normal     3   \n",
            "\n",
            "   smoke  alco  active  cardio  age_years age_group  \n",
            "1      0     0       1       1  55.419178     50-59  \n",
            "2      0     0       0       1  51.663014     50-59  \n",
            "5      0     0       0       0  60.038356     60-69  \n",
            "6      0     0       1       0  60.583562     60-69  \n",
            "7      0     0       1       1  61.873973     60-69  \n",
            "    id    age  gender  height  weight  ap_hi  ap_lo        cholesterol  gluc  \\\n",
            "1    1  20228  female     156    85.0    140     90  Well Above Normal     1   \n",
            "3    3  17623    male     169    82.0    150    100             Normal     1   \n",
            "6    9  22113  female     157    93.0    130     80  Well Above Normal     1   \n",
            "7   12  22584    male     178    95.0    130     90  Well Above Normal     3   \n",
            "21  31  21413  female     157    69.0    130     80             Normal     1   \n",
            "\n",
            "    smoke  alco  active  cardio  age_years age_group  \n",
            "1       0     0       1       1  55.419178     50-59  \n",
            "3       0     0       1       1  48.282192     40-49  \n",
            "6       0     0       1       0  60.583562     60-69  \n",
            "7       0     0       1       1  61.873973     60-69  \n",
            "21      0     0       1       0  58.665753     50-59  \n"
          ]
        }
      ]
    }
  ]
}